{
  "nbformat": 4,
  "nbformat_minor": 0,
  "metadata": {
    "colab": {
      "name": "Facial_Blur.ipynb",
      "provenance": [],
      "collapsed_sections": [],
      "include_colab_link": true
    },
    "kernelspec": {
      "name": "python3",
      "display_name": "Python 3"
    },
    "accelerator": "GPU"
  },
  "cells": [
    {
      "cell_type": "markdown",
      "metadata": {
        "id": "view-in-github",
        "colab_type": "text"
      },
      "source": [
        "<a href=\"https://colab.research.google.com/github/colinmsnow/ModSimPy/blob/master/Facial_Blur.ipynb\" target=\"_parent\"><img src=\"https://colab.research.google.com/assets/colab-badge.svg\" alt=\"Open In Colab\"/></a>"
      ]
    },
    {
      "cell_type": "code",
      "metadata": {
        "id": "qag1NL_FWy88",
        "colab_type": "code",
        "colab": {}
      },
      "source": [
        "# hey! this is wacky!!\n",
        "# can you see this?"
      ],
      "execution_count": 0,
      "outputs": []
    },
    {
      "cell_type": "markdown",
      "metadata": {
        "id": "2t20OdGNZI7l",
        "colab_type": "text"
      },
      "source": [
        "yooo can you see me writing this?\n"
      ]
    },
    {
      "cell_type": "code",
      "metadata": {
        "id": "-4x1Y1xtZMAi",
        "colab_type": "code",
        "outputId": "18ec1b4b-9ec2-41e1-8a61-d888edc04198",
        "colab": {
          "base_uri": "https://localhost:8080/",
          "height": 510
        }
      },
      "source": [
        "!pip install torchviz\n",
        "# !CUDA_LAUNCH_BLOCKING=1\n",
        "from torch.utils.data.sampler import SubsetRandomSampler\n",
        "from torch.autograd import Variable\n",
        "from torchviz import make_dot\n",
        "import torch\n",
        "import torch.nn as nn\n",
        "import torchvision\n",
        "import torchvision.transforms as transforms\n",
        "import torch.optim as optim\n",
        "\n",
        "\n",
        "import matplotlib.pyplot as plt\n",
        "import numpy as np # we always love numpy\n",
        "import time\n",
        "import gdown\n",
        "import pandas as pd\n",
        "\n",
        "\n",
        "gdown.download('https://storage.googleapis.com/quickdraw_dataset/full/numpy_bitmap/The%20Eiffel%20Tower.npy', 'eiffeltower.npy', False)\n",
        "gdown.download('https://storage.googleapis.com/quickdraw_dataset/full/numpy_bitmap/bear.npy', 'bear.npy', False)\n",
        "gdown.download('https://storage.googleapis.com/quickdraw_dataset/full/numpy_bitmap/airplane.npy', 'airplane.npy', False)\n",
        "gdown.download('https://storage.googleapis.com/quickdraw_dataset/full/numpy_bitmap/broccoli.npy', 'broccoli.npy', False)\n",
        "gdown.download('https://storage.googleapis.com/quickdraw_dataset/full/numpy_bitmap/dog.npy', 'dog.npy', False)\n",
        "gdown.download('https://storage.googleapis.com/quickdraw_dataset/full/numpy_bitmap/broom.npy', 'broom.npy', False)"
      ],
      "execution_count": 2,
      "outputs": [
        {
          "output_type": "stream",
          "text": [
            "Requirement already satisfied: torchviz in /usr/local/lib/python3.6/dist-packages (0.0.1)\n",
            "Requirement already satisfied: torch in /usr/local/lib/python3.6/dist-packages (from torchviz) (1.2.0)\n",
            "Requirement already satisfied: graphviz in /usr/local/lib/python3.6/dist-packages (from torchviz) (0.10.1)\n",
            "Requirement already satisfied: numpy in /usr/local/lib/python3.6/dist-packages (from torch->torchviz) (1.16.5)\n"
          ],
          "name": "stdout"
        },
        {
          "output_type": "stream",
          "text": [
            "Downloading...\n",
            "From: https://storage.googleapis.com/quickdraw_dataset/full/numpy_bitmap/The%20Eiffel%20Tower.npy\n",
            "To: /content/eiffeltower.npy\n",
            "100%|██████████| 106M/106M [00:00<00:00, 221MB/s] \n",
            "Downloading...\n",
            "From: https://storage.googleapis.com/quickdraw_dataset/full/numpy_bitmap/bear.npy\n",
            "To: /content/bear.npy\n",
            "100%|██████████| 106M/106M [00:00<00:00, 197MB/s] \n",
            "Downloading...\n",
            "From: https://storage.googleapis.com/quickdraw_dataset/full/numpy_bitmap/airplane.npy\n",
            "To: /content/airplane.npy\n",
            "100%|██████████| 119M/119M [00:00<00:00, 174MB/s]\n",
            "Downloading...\n",
            "From: https://storage.googleapis.com/quickdraw_dataset/full/numpy_bitmap/broccoli.npy\n",
            "To: /content/broccoli.npy\n",
            "100%|██████████| 104M/104M [00:00<00:00, 172MB/s]  \n",
            "Downloading...\n",
            "From: https://storage.googleapis.com/quickdraw_dataset/full/numpy_bitmap/dog.npy\n",
            "To: /content/dog.npy\n",
            "100%|██████████| 119M/119M [00:00<00:00, 218MB/s]\n",
            "Downloading...\n",
            "From: https://storage.googleapis.com/quickdraw_dataset/full/numpy_bitmap/broom.npy\n",
            "To: /content/broom.npy\n",
            "100%|██████████| 91.7M/91.7M [00:00<00:00, 211MB/s]\n"
          ],
          "name": "stderr"
        },
        {
          "output_type": "execute_result",
          "data": {
            "text/plain": [
              "'broom.npy'"
            ]
          },
          "metadata": {
            "tags": []
          },
          "execution_count": 2
        }
      ]
    },
    {
      "cell_type": "code",
      "metadata": {
        "id": "KqPERGQfVgc7",
        "colab_type": "code",
        "colab": {}
      },
      "source": [
        "tower = np.load('eiffeltower.npy') #type = 1\n",
        "bear = np.load('bear.npy') # type = 0\n",
        "airplane = np.load('airplane.npy')\n",
        "broccoli = np.load('broccoli.npy')\n",
        "dog = np.load('dog.npy')\n",
        "broom = np.load('broom.npy')\n",
        "\n"
      ],
      "execution_count": 0,
      "outputs": []
    },
    {
      "cell_type": "code",
      "metadata": {
        "id": "ICO8bUo6V2He",
        "colab_type": "code",
        "outputId": "52d3511c-cacb-4aed-daba-ec4657fcb0d7",
        "colab": {
          "base_uri": "https://localhost:8080/",
          "height": 269
        }
      },
      "source": [
        "import matplotlib.pyplot as plt\n",
        "import numpy as np\n",
        "\n",
        "X = airplane[750]\n",
        "X = np.resize(X,(28,28))\n",
        "X = np.invert(X)\n",
        "plt.imshow(X, cmap=\"gray\")\n",
        "plt.show()"
      ],
      "execution_count": 4,
      "outputs": [
        {
          "output_type": "display_data",
          "data": {
            "image/png": "[encoded data removed]",
            "text/plain": [
              "<Figure size 432x288 with 1 Axes>"
            ]
          },
          "metadata": {
            "tags": []
          }
        }
      ]
    },
    {
      "cell_type": "code",
      "metadata": {
        "id": "X7yhVEn8Ql_h",
        "colab_type": "code",
        "outputId": "4b59c856-1b6e-4cec-83f9-d3d3f3877d96",
        "colab": {
          "base_uri": "https://localhost:8080/",
          "height": 541
        }
      },
      "source": [
        "from torch.utils.data import Dataset\n",
        "from torch.utils.data import random_split\n",
        "\n",
        "import torch\n",
        "\n",
        "# class QuickDrawData(Dataset):\n",
        "#     def __init__(self, tower, bear, airplane, broccoli):\n",
        "#         super(QuickDrawData, self).__init__()\n",
        "#         self.data = np.vstack((tower, bear, airplane, broccoli))\n",
        "#         self.targets = np.concatenate((0*np.ones(tower.shape[0]), 1*np.ones(bear.shape[0]), 2*np.ones(airplane.shape[0]), 3*np.ones(broccoli.shape[0])))\n",
        "#         print(len(self.data))\n",
        "#         self.classes = ['tower', 'bear', 'airplane', 'broccoli']\n",
        "    \n",
        "#     def __len__(self):\n",
        "#         return self.targets.shape[0]\n",
        "    \n",
        "#     def __getitem__(self, index):\n",
        "#         return torch.FloatTensor(self.data[index, :].reshape((28, 28))).unsqueeze(0), int(self.targets[index])\n",
        "class QuickDrawData(Dataset):\n",
        "    def __init__(self, *args):\n",
        "        super(QuickDrawData, self).__init__()\n",
        "        count = 0\n",
        "        # self.data = np.empty(args[0].shape, dtype=int)\n",
        "        # self.targets = np.empty(args[0].shape, dtype=int)\n",
        "        self.classes = []\n",
        "        for arg in args:\n",
        "          # print(str(arg))\n",
        "          if type(arg) == str:\n",
        "            self.classes += arg\n",
        "          else:\n",
        "\n",
        "            if count == 0:\n",
        "              print(arg.shape)\n",
        "              self.data = np.array(arg)\n",
        "              self.targets = np.array(0*np.ones(arg.shape[0], dtype = int))\n",
        "              print(self.targets)\n",
        "              print(type(self.targets))\n",
        "              print(type(self.data))\n",
        "              print(type(self.classes))\n",
        "            else:\n",
        "              self.data = np.vstack((self.data, arg))\n",
        "              print(int(count)*np.ones(arg.shape[0], dtype = int))\n",
        "              print(self.targets)\n",
        "              self.targets = np.hstack((self.targets, int(count)*np.ones(arg.shape[0], dtype = int)))\n",
        "            count+=1\n",
        "    \n",
        "    def __len__(self):\n",
        "        return self.targets.shape[0]\n",
        "    \n",
        "    def __getitem__(self, index):\n",
        "        return torch.FloatTensor(self.data[index, :].reshape((28, 28))).unsqueeze(0), int(self.targets[index])\n",
        "\n",
        "quick_draw_data = QuickDrawData(tower, bear, airplane, broccoli, dog, broom, 'tower', 'bear', 'airplane', 'brocolli', 'dog', 'broom')\n",
        "\n",
        "im, target = quick_draw_data[55102]\n",
        "plt.imshow(im.squeeze(), cmap='gray')\n",
        "plt.show()\n",
        "im.shape\n",
        "print(target)"
      ],
      "execution_count": 5,
      "outputs": [
        {
          "output_type": "stream",
          "text": [
            "(134801, 784)\n",
            "[0 0 0 ... 0 0 0]\n",
            "<class 'numpy.ndarray'>\n",
            "<class 'numpy.ndarray'>\n",
            "<class 'list'>\n",
            "[1 1 1 ... 1 1 1]\n",
            "[0 0 0 ... 0 0 0]\n",
            "[2 2 2 ... 2 2 2]\n",
            "[0 0 0 ... 1 1 1]\n",
            "[3 3 3 ... 3 3 3]\n",
            "[0 0 0 ... 2 2 2]\n",
            "[4 4 4 ... 4 4 4]\n",
            "[0 0 0 ... 3 3 3]\n",
            "[5 5 5 ... 5 5 5]\n",
            "[0 0 0 ... 4 4 4]\n"
          ],
          "name": "stdout"
        },
        {
          "output_type": "display_data",
          "data": {
            "image/png": "[encoded data removed]",
            "text/plain": [
              "<Figure size 432x288 with 1 Axes>"
            ]
          },
          "metadata": {
            "tags": []
          }
        },
        {
          "output_type": "stream",
          "text": [
            "0\n"
          ],
          "name": "stdout"
        }
      ]
    },
    {
      "cell_type": "code",
      "metadata": {
        "id": "Vi8X_pFZAcm3",
        "colab_type": "code",
        "colab": {}
      },
      "source": [
        ""
      ],
      "execution_count": 0,
      "outputs": []
    },
    {
      "cell_type": "code",
      "metadata": {
        "colab_type": "code",
        "id": "9fMDbMQBAdAc",
        "colab": {}
      },
      "source": [
        "# from torch.utils.data import Dataset\n",
        "# from torch.utils.data import random_split\n",
        "\n",
        "# import torch\n",
        "\n",
        "# class QuickDrawData(Dataset):\n",
        "#     def __init__(self,airplane, broccoli):\n",
        "#         super(QuickDrawData, self).__init__()\n",
        "#         self.data = np.vstack((airplane, broccoli))\n",
        "#         self.targets = np.concatenate((0*np.ones(airplane.shape[0]), 1*np.ones(broccoli.shape[0])))\n",
        "#         print(len(self.data))\n",
        "#         # self.classes = ['tower', 'bear', 'airplane', 'broccoli']\n",
        "#         self.classes = ['airplane', 'broccoli']\n",
        "    \n",
        "#     def __len__(self):\n",
        "#         return self.targets.shape[0]\n",
        "    \n",
        "#     def __getitem__(self, index):\n",
        "#         return torch.FloatTensor(self.data[index, :].reshape((28, 28))).unsqueeze(0), int(self.targets[index])\n",
        "\n",
        "# quick_draw_data = QuickDrawData(airplane, broccoli)\n",
        "\n",
        "# im, target = quick_draw_data[502]\n",
        "# plt.imshow(im.squeeze(), cmap='gray')\n",
        "# plt.show()\n",
        "# im.shape\n",
        "# print(target)"
      ],
      "execution_count": 0,
      "outputs": []
    },
    {
      "cell_type": "code",
      "metadata": {
        "id": "RbaebNQ7RwG0",
        "colab_type": "code",
        "colab": {}
      },
      "source": [
        "x = int(len(quick_draw_data)*.9)\n",
        "train, test = random_split(quick_draw_data, [x,(len(quick_draw_data) - x)])\n"
      ],
      "execution_count": 0,
      "outputs": []
    },
    {
      "cell_type": "code",
      "metadata": {
        "id": "LMrsY0PERwJV",
        "colab_type": "code",
        "colab": {}
      },
      "source": [
        "# Data set information\n",
        "\n",
        "image_dims = 1, 28, 28\n",
        "n_training_samples = len(train) # How many training images to use\n",
        "n_test_samples = len(test) # How many test images to use\n",
        "classes = ('tower', 'bear', 'airplane', 'brocolli', 'dog', 'broom')\n",
        "\n",
        "# Load the training set\n",
        "train_set = train\n",
        "train_sampler = SubsetRandomSampler(\n",
        "    np.arange(n_training_samples, dtype=np.int64))\n",
        "\n",
        "#Load the test set\n",
        "test_set = test\n",
        "test_sampler = SubsetRandomSampler(np.arange(n_test_samples, dtype=np.int64))"
      ],
      "execution_count": 0,
      "outputs": []
    },
    {
      "cell_type": "code",
      "metadata": {
        "id": "2Dv6-ImXRwMA",
        "colab_type": "code",
        "outputId": "bb5c1edb-3a1b-4c70-954c-86e1adc02d9a",
        "colab": {
          "base_uri": "https://localhost:8080/",
          "height": 34
        }
      },
      "source": [
        "type(test_set)"
      ],
      "execution_count": 9,
      "outputs": [
        {
          "output_type": "execute_result",
          "data": {
            "text/plain": [
              "torch.utils.data.dataset.Subset"
            ]
          },
          "metadata": {
            "tags": []
          },
          "execution_count": 9
        }
      ]
    },
    {
      "cell_type": "code",
      "metadata": {
        "id": "8QoJj27WRwO2",
        "colab_type": "code",
        "colab": {}
      },
      "source": [
        "class MyCNN(nn.Module):\n",
        "  \n",
        "  def __init__(self):\n",
        "    super(MyCNN, self).__init__()\n",
        "    \n",
        "    num_kernels = 16\n",
        "    \n",
        "    self.conv1 = nn.Conv2d(1, num_kernels, kernel_size=3, stride=1, padding=1)\n",
        "    self.pool1 = nn.MaxPool2d(kernel_size = 2, stride = 2, padding = 0)\n",
        "    self.conv2 = nn.Conv2d(num_kernels, num_kernels*2, kernel_size=3, stride=1, padding=1)\n",
        "    self.pool2 = nn.MaxPool2d(kernel_size = 2, stride = 2, padding = 0)\n",
        "    self.maxpool_output_size1 = int(num_kernels*(image_dims[1]/2) * (image_dims[2]/2))\n",
        "    self.maxpool_output_size2 = int(num_kernels*(image_dims[1]/4) * (image_dims[2]/4)*2)\n",
        "    \n",
        "    \n",
        "    fcl_size = 64\n",
        "    self.fc1 = nn.Linear(1568, fcl_size)\n",
        "    self.activation_func = torch.nn.ReLU()\n",
        "    # fc2_size = fcl_size\n",
        "\n",
        "    self.fc2 = nn.Linear(fcl_size, fcl_size)\n",
        "    # self.fc7 = nn.Linear(fcl_size, fcl_size)\n",
        "\n",
        "    self.activation_func = torch.nn.ReLU()\n",
        "\n",
        "    fc3_size = len(classes)\n",
        "    # fc3_size = 6\n",
        "    self.fc3 = nn.Linear(fcl_size, fc3_size)\n",
        "    \n",
        "  def forward(self, x):\n",
        "    x = self.conv1(x)\n",
        "\n",
        "    x = self.activation_func(x)\n",
        "\n",
        "    x = self.pool1(x)\n",
        "\n",
        "    x = self.conv2(x)\n",
        "\n",
        "    x = self.activation_func(x)\n",
        "\n",
        "    x = self.pool2(x)\n",
        "\n",
        "    # x = self.pool1(x)\n",
        "    # x = self.activation_func(x)\n",
        "    # x = x.view(-1, self.maxpool_output_size1)\n",
        "    # x = self.pool2(x)\n",
        "    # x = self.activation_func(x)\n",
        "    x = self.activation_func(x)\n",
        "    x = x.view(-1, self.maxpool_output_size2)\n",
        "\n",
        "    x = self.fc1(x)\n",
        "\n",
        "    x = self.activation_func(x)\n",
        "    # x = self.fc2(x)\n",
        "    # x = self.activation_func(x)\n",
        "    x = self.fc3(x)\n",
        "    # x = self.activation_func(x)\n",
        "\n",
        "    # x = self.activation_func7(x)\n",
        "    return x\n",
        "\n",
        "  def get_loss(self, learning_rate):\n",
        "    loss = nn.CrossEntropyLoss()\n",
        "    optimizer = optim.Adam(self.parameters(), lr=learning_rate)\n",
        "    return loss, optimizer\n",
        "  "
      ],
      "execution_count": 0,
      "outputs": []
    },
    {
      "cell_type": "code",
      "metadata": {
        "id": "fHaayoLKRwaY",
        "colab_type": "code",
        "colab": {}
      },
      "source": [
        "net = MyCNN()"
      ],
      "execution_count": 0,
      "outputs": []
    },
    {
      "cell_type": "code",
      "metadata": {
        "id": "_SbsGk9qjpmY",
        "colab_type": "code",
        "outputId": "5bfd9919-8d44-4eac-b70f-8cbe7c6765bc",
        "colab": {
          "base_uri": "https://localhost:8080/",
          "height": 1000
        }
      },
      "source": [
        "def visualize_network(net):\n",
        "    # Visualize the architecture of the model\n",
        "    # We need to give the net a fake input for this library to visualize the architecture\n",
        "    fake_input = Variable(torch.zeros((1, image_dims[0], image_dims[1], image_dims[2]))).to(device)\n",
        "    outputs = net(fake_input)\n",
        "    # Plot the DAG (Directed Acyclic Graph) of the model\n",
        "    return make_dot(outputs, dict(net.named_parameters()))\n",
        "\n",
        "# Define what device we want to use\n",
        "device = 'cuda' # 'cpu' if we want to not use the gpu\n",
        "# Initialize the model, loss, and optimization function\n",
        "net = MyCNN()\n",
        "# This tells our model to send all of the tensors and operations to the GPU (or keep them at the CPU if we're not using GPU)\n",
        "net.to(device)\n",
        "# \n",
        "visualize_network(net)"
      ],
      "execution_count": 19,
      "outputs": [
        {
          "output_type": "execute_result",
          "data": {
            "text/plain": [
              "<graphviz.dot.Digraph at 0x7f4f780b34e0>"
            ],
            "image/svg+xml": "<?xml version=\"1.0\" encoding=\"UTF-8\" standalone=\"no\"?>\n<!DOCTYPE svg PUBLIC \"-//W3C//DTD SVG 1.1//EN\"\n \"http://www.w3.org/Graphics/SVG/1.1/DTD/svg11.dtd\">\n<!-- Generated by graphviz version 2.40.1 (20161225.0304)\n -->\n<!-- Title: %3 Pages: 1 -->\n<svg width=\"388pt\" height=\"734pt\"\n viewBox=\"0.00 0.00 387.50 734.00\" xmlns=\"http://www.w3.org/2000/svg\" xmlns:xlink=\"http://www.w3.org/1999/xlink\">\n<g id=\"graph0\" class=\"graph\" transform=\"scale(1 1) rotate(0) translate(4 730)\">\n<title>%3</title>\n<polygon fill=\"#ffffff\" stroke=\"transparent\" points=\"-4,4 -4,-730 383.5,-730 383.5,4 -4,4\"/>\n<!-- 139979292804936 -->\n<g id=\"node1\" class=\"node\">\n<title>139979292804936</title>\n<polygon fill=\"#caff70\" stroke=\"#000000\" points=\"292,-21 188,-21 188,0 292,0 292,-21\"/>\n<text text-anchor=\"middle\" x=\"240\" y=\"-7.4\" font-family=\"Times,serif\" font-size=\"12.00\" fill=\"#000000\">AddmmBackward</text>\n</g>\n<!-- 139979292803648 -->\n<g id=\"node2\" class=\"node\">\n<title>139979292803648</title>\n<polygon fill=\"#add8e6\" stroke=\"#000000\" points=\"175,-91 121,-91 121,-57 175,-57 175,-91\"/>\n<text text-anchor=\"middle\" x=\"148\" y=\"-77.4\" font-family=\"Times,serif\" font-size=\"12.00\" fill=\"#000000\">fc3.bias</text>\n<text text-anchor=\"middle\" x=\"148\" y=\"-64.4\" font-family=\"Times,serif\" font-size=\"12.00\" fill=\"#000000\"> (6)</text>\n</g>\n<!-- 139979292803648&#45;&gt;139979292804936 -->\n<g id=\"edge1\" class=\"edge\">\n<title>139979292803648&#45;&gt;139979292804936</title>\n<path fill=\"none\" stroke=\"#000000\" d=\"M172.6543,-56.9832C186.1894,-47.641 202.8926,-36.1122 216.278,-26.8734\"/>\n<polygon fill=\"#000000\" stroke=\"#000000\" points=\"218.2865,-29.7398 224.5283,-21.1788 214.3102,-23.9788 218.2865,-29.7398\"/>\n</g>\n<!-- 139979292805608 -->\n<g id=\"node3\" class=\"node\">\n<title>139979292805608</title>\n<polygon fill=\"#d3d3d3\" stroke=\"#000000\" points=\"287,-84.5 193,-84.5 193,-63.5 287,-63.5 287,-84.5\"/>\n<text text-anchor=\"middle\" x=\"240\" y=\"-70.9\" font-family=\"Times,serif\" font-size=\"12.00\" fill=\"#000000\">ReluBackward0</text>\n</g>\n<!-- 139979292805608&#45;&gt;139979292804936 -->\n<g id=\"edge2\" class=\"edge\">\n<title>139979292805608&#45;&gt;139979292804936</title>\n<path fill=\"none\" stroke=\"#000000\" d=\"M240,-63.2281C240,-54.5091 240,-41.9699 240,-31.3068\"/>\n<polygon fill=\"#000000\" stroke=\"#000000\" points=\"243.5001,-31.1128 240,-21.1128 236.5001,-31.1129 243.5001,-31.1128\"/>\n</g>\n<!-- 139979292803872 -->\n<g id=\"node4\" class=\"node\">\n<title>139979292803872</title>\n<polygon fill=\"#d3d3d3\" stroke=\"#000000\" points=\"291,-154.5 187,-154.5 187,-133.5 291,-133.5 291,-154.5\"/>\n<text text-anchor=\"middle\" x=\"239\" y=\"-140.9\" font-family=\"Times,serif\" font-size=\"12.00\" fill=\"#000000\">AddmmBackward</text>\n</g>\n<!-- 139979292803872&#45;&gt;139979292805608 -->\n<g id=\"edge3\" class=\"edge\">\n<title>139979292803872&#45;&gt;139979292805608</title>\n<path fill=\"none\" stroke=\"#000000\" d=\"M239.1519,-133.3685C239.2972,-123.1925 239.5206,-107.5606 239.7016,-94.8912\"/>\n<polygon fill=\"#000000\" stroke=\"#000000\" points=\"243.2034,-94.7806 239.8467,-84.7315 236.2041,-94.6805 243.2034,-94.7806\"/>\n</g>\n<!-- 139979293366928 -->\n<g id=\"node5\" class=\"node\">\n<title>139979293366928</title>\n<polygon fill=\"#add8e6\" stroke=\"#000000\" points=\"175,-231 121,-231 121,-197 175,-197 175,-231\"/>\n<text text-anchor=\"middle\" x=\"148\" y=\"-217.4\" font-family=\"Times,serif\" font-size=\"12.00\" fill=\"#000000\">fc1.bias</text>\n<text text-anchor=\"middle\" x=\"148\" y=\"-204.4\" font-family=\"Times,serif\" font-size=\"12.00\" fill=\"#000000\"> (64)</text>\n</g>\n<!-- 139979293366928&#45;&gt;139979292803872 -->\n<g id=\"edge4\" class=\"edge\">\n<title>139979293366928&#45;&gt;139979292803872</title>\n<path fill=\"none\" stroke=\"#000000\" d=\"M170.4944,-196.6966C184.7034,-185.7666 202.9745,-171.7119 217.0735,-160.8666\"/>\n<polygon fill=\"#000000\" stroke=\"#000000\" points=\"219.447,-163.4565 225.2393,-154.5852 215.179,-157.9081 219.447,-163.4565\"/>\n</g>\n<!-- 139979293364352 -->\n<g id=\"node6\" class=\"node\">\n<title>139979293364352</title>\n<polygon fill=\"#d3d3d3\" stroke=\"#000000\" points=\"284.5,-224.5 193.5,-224.5 193.5,-203.5 284.5,-203.5 284.5,-224.5\"/>\n<text text-anchor=\"middle\" x=\"239\" y=\"-210.9\" font-family=\"Times,serif\" font-size=\"12.00\" fill=\"#000000\">ViewBackward</text>\n</g>\n<!-- 139979293364352&#45;&gt;139979292803872 -->\n<g id=\"edge5\" class=\"edge\">\n<title>139979293364352&#45;&gt;139979292803872</title>\n<path fill=\"none\" stroke=\"#000000\" d=\"M239,-203.3685C239,-193.1925 239,-177.5606 239,-164.8912\"/>\n<polygon fill=\"#000000\" stroke=\"#000000\" points=\"242.5001,-164.7315 239,-154.7315 235.5001,-164.7316 242.5001,-164.7315\"/>\n</g>\n<!-- 139979293366984 -->\n<g id=\"node7\" class=\"node\">\n<title>139979293366984</title>\n<polygon fill=\"#d3d3d3\" stroke=\"#000000\" points=\"286,-294.5 192,-294.5 192,-273.5 286,-273.5 286,-294.5\"/>\n<text text-anchor=\"middle\" x=\"239\" y=\"-280.9\" font-family=\"Times,serif\" font-size=\"12.00\" fill=\"#000000\">ReluBackward0</text>\n</g>\n<!-- 139979293366984&#45;&gt;139979293364352 -->\n<g id=\"edge6\" class=\"edge\">\n<title>139979293366984&#45;&gt;139979293364352</title>\n<path fill=\"none\" stroke=\"#000000\" d=\"M239,-273.3685C239,-263.1925 239,-247.5606 239,-234.8912\"/>\n<polygon fill=\"#000000\" stroke=\"#000000\" points=\"242.5001,-234.7315 239,-224.7315 235.5001,-234.7316 242.5001,-234.7315\"/>\n</g>\n<!-- 139979293365192 -->\n<g id=\"node8\" class=\"node\">\n<title>139979293365192</title>\n<polygon fill=\"#d3d3d3\" stroke=\"#000000\" points=\"329,-358 149,-358 149,-337 329,-337 329,-358\"/>\n<text text-anchor=\"middle\" x=\"239\" y=\"-344.4\" font-family=\"Times,serif\" font-size=\"12.00\" fill=\"#000000\">MaxPool2DWithIndicesBackward</text>\n</g>\n<!-- 139979293365192&#45;&gt;139979293366984 -->\n<g id=\"edge7\" class=\"edge\">\n<title>139979293365192&#45;&gt;139979293366984</title>\n<path fill=\"none\" stroke=\"#000000\" d=\"M239,-336.7281C239,-328.0091 239,-315.4699 239,-304.8068\"/>\n<polygon fill=\"#000000\" stroke=\"#000000\" points=\"242.5001,-304.6128 239,-294.6128 235.5001,-304.6129 242.5001,-304.6128\"/>\n</g>\n<!-- 139979293366480 -->\n<g id=\"node9\" class=\"node\">\n<title>139979293366480</title>\n<polygon fill=\"#d3d3d3\" stroke=\"#000000\" points=\"286,-415 192,-415 192,-394 286,-394 286,-415\"/>\n<text text-anchor=\"middle\" x=\"239\" y=\"-401.4\" font-family=\"Times,serif\" font-size=\"12.00\" fill=\"#000000\">ReluBackward0</text>\n</g>\n<!-- 139979293366480&#45;&gt;139979293365192 -->\n<g id=\"edge8\" class=\"edge\">\n<title>139979293366480&#45;&gt;139979293365192</title>\n<path fill=\"none\" stroke=\"#000000\" d=\"M239,-393.7787C239,-386.6134 239,-376.9517 239,-368.3097\"/>\n<polygon fill=\"#000000\" stroke=\"#000000\" points=\"242.5001,-368.1732 239,-358.1732 235.5001,-368.1732 242.5001,-368.1732\"/>\n</g>\n<!-- 139979293364296 -->\n<g id=\"node10\" class=\"node\">\n<title>139979293364296</title>\n<polygon fill=\"#d3d3d3\" stroke=\"#000000\" points=\"317.5,-472 160.5,-472 160.5,-451 317.5,-451 317.5,-472\"/>\n<text text-anchor=\"middle\" x=\"239\" y=\"-458.4\" font-family=\"Times,serif\" font-size=\"12.00\" fill=\"#000000\">CudnnConvolutionBackward</text>\n</g>\n<!-- 139979293364296&#45;&gt;139979293366480 -->\n<g id=\"edge9\" class=\"edge\">\n<title>139979293364296&#45;&gt;139979293366480</title>\n<path fill=\"none\" stroke=\"#000000\" d=\"M239,-450.7787C239,-443.6134 239,-433.9517 239,-425.3097\"/>\n<polygon fill=\"#000000\" stroke=\"#000000\" points=\"242.5001,-425.1732 239,-415.1732 235.5001,-425.1732 242.5001,-425.1732\"/>\n</g>\n<!-- 139979293366032 -->\n<g id=\"node11\" class=\"node\">\n<title>139979293366032</title>\n<polygon fill=\"#d3d3d3\" stroke=\"#000000\" points=\"180,-535.5 0,-535.5 0,-514.5 180,-514.5 180,-535.5\"/>\n<text text-anchor=\"middle\" x=\"90\" y=\"-521.9\" font-family=\"Times,serif\" font-size=\"12.00\" fill=\"#000000\">MaxPool2DWithIndicesBackward</text>\n</g>\n<!-- 139979293366032&#45;&gt;139979293364296 -->\n<g id=\"edge10\" class=\"edge\">\n<title>139979293366032&#45;&gt;139979293364296</title>\n<path fill=\"none\" stroke=\"#000000\" d=\"M114.9392,-514.3715C139.5429,-503.8861 177.3449,-487.7758 204.7558,-476.094\"/>\n<polygon fill=\"#000000\" stroke=\"#000000\" points=\"206.1522,-479.3036 213.9794,-472.1631 203.4077,-472.864 206.1522,-479.3036\"/>\n</g>\n<!-- 139979293365024 -->\n<g id=\"node12\" class=\"node\">\n<title>139979293365024</title>\n<polygon fill=\"#d3d3d3\" stroke=\"#000000\" points=\"137,-599 43,-599 43,-578 137,-578 137,-599\"/>\n<text text-anchor=\"middle\" x=\"90\" y=\"-585.4\" font-family=\"Times,serif\" font-size=\"12.00\" fill=\"#000000\">ReluBackward0</text>\n</g>\n<!-- 139979293365024&#45;&gt;139979293366032 -->\n<g id=\"edge11\" class=\"edge\">\n<title>139979293365024&#45;&gt;139979293366032</title>\n<path fill=\"none\" stroke=\"#000000\" d=\"M90,-577.7281C90,-569.0091 90,-556.4699 90,-545.8068\"/>\n<polygon fill=\"#000000\" stroke=\"#000000\" points=\"93.5001,-545.6128 90,-535.6128 86.5001,-545.6129 93.5001,-545.6128\"/>\n</g>\n<!-- 139979293365528 -->\n<g id=\"node13\" class=\"node\">\n<title>139979293365528</title>\n<polygon fill=\"#d3d3d3\" stroke=\"#000000\" points=\"168.5,-656 11.5,-656 11.5,-635 168.5,-635 168.5,-656\"/>\n<text text-anchor=\"middle\" x=\"90\" y=\"-642.4\" font-family=\"Times,serif\" font-size=\"12.00\" fill=\"#000000\">CudnnConvolutionBackward</text>\n</g>\n<!-- 139979293365528&#45;&gt;139979293365024 -->\n<g id=\"edge12\" class=\"edge\">\n<title>139979293365528&#45;&gt;139979293365024</title>\n<path fill=\"none\" stroke=\"#000000\" d=\"M90,-634.7787C90,-627.6134 90,-617.9517 90,-609.3097\"/>\n<polygon fill=\"#000000\" stroke=\"#000000\" points=\"93.5001,-609.1732 90,-599.1732 86.5001,-609.1732 93.5001,-609.1732\"/>\n</g>\n<!-- 139979292862448 -->\n<g id=\"node14\" class=\"node\">\n<title>139979292862448</title>\n<polygon fill=\"#add8e6\" stroke=\"#000000\" points=\"84.5,-726 3.5,-726 3.5,-692 84.5,-692 84.5,-726\"/>\n<text text-anchor=\"middle\" x=\"44\" y=\"-712.4\" font-family=\"Times,serif\" font-size=\"12.00\" fill=\"#000000\">conv1.weight</text>\n<text text-anchor=\"middle\" x=\"44\" y=\"-699.4\" font-family=\"Times,serif\" font-size=\"12.00\" fill=\"#000000\"> (16, 1, 3, 3)</text>\n</g>\n<!-- 139979292862448&#45;&gt;139979293365528 -->\n<g id=\"edge13\" class=\"edge\">\n<title>139979292862448&#45;&gt;139979293365528</title>\n<path fill=\"none\" stroke=\"#000000\" d=\"M56.3272,-691.9832C62.4107,-683.5853 69.7742,-673.4204 76.0621,-664.7404\"/>\n<polygon fill=\"#000000\" stroke=\"#000000\" points=\"79.0945,-666.5204 82.1266,-656.3687 73.4256,-662.4138 79.0945,-666.5204\"/>\n</g>\n<!-- 139979292860488 -->\n<g id=\"node15\" class=\"node\">\n<title>139979292860488</title>\n<polygon fill=\"#add8e6\" stroke=\"#000000\" points=\"171,-726 103,-726 103,-692 171,-692 171,-726\"/>\n<text text-anchor=\"middle\" x=\"137\" y=\"-712.4\" font-family=\"Times,serif\" font-size=\"12.00\" fill=\"#000000\">conv1.bias</text>\n<text text-anchor=\"middle\" x=\"137\" y=\"-699.4\" font-family=\"Times,serif\" font-size=\"12.00\" fill=\"#000000\"> (16)</text>\n</g>\n<!-- 139979292860488&#45;&gt;139979293365528 -->\n<g id=\"edge14\" class=\"edge\">\n<title>139979292860488&#45;&gt;139979293365528</title>\n<path fill=\"none\" stroke=\"#000000\" d=\"M124.4049,-691.9832C118.1237,-683.4969 110.5069,-673.2062 104.0384,-664.4668\"/>\n<polygon fill=\"#000000\" stroke=\"#000000\" points=\"106.8071,-662.3243 98.0445,-656.3687 101.1806,-666.4888 106.8071,-662.3243\"/>\n</g>\n<!-- 139979293366144 -->\n<g id=\"node16\" class=\"node\">\n<title>139979293366144</title>\n<polygon fill=\"#add8e6\" stroke=\"#000000\" points=\"279.5,-542 198.5,-542 198.5,-508 279.5,-508 279.5,-542\"/>\n<text text-anchor=\"middle\" x=\"239\" y=\"-528.4\" font-family=\"Times,serif\" font-size=\"12.00\" fill=\"#000000\">conv2.weight</text>\n<text text-anchor=\"middle\" x=\"239\" y=\"-515.4\" font-family=\"Times,serif\" font-size=\"12.00\" fill=\"#000000\"> (32, 16, 3, 3)</text>\n</g>\n<!-- 139979293366144&#45;&gt;139979293364296 -->\n<g id=\"edge15\" class=\"edge\">\n<title>139979293366144&#45;&gt;139979293364296</title>\n<path fill=\"none\" stroke=\"#000000\" d=\"M239,-507.9832C239,-500.1157 239,-490.6973 239,-482.4019\"/>\n<polygon fill=\"#000000\" stroke=\"#000000\" points=\"242.5001,-482.3686 239,-472.3687 235.5001,-482.3687 242.5001,-482.3686\"/>\n</g>\n<!-- 139979293365920 -->\n<g id=\"node17\" class=\"node\">\n<title>139979293365920</title>\n<polygon fill=\"#add8e6\" stroke=\"#000000\" points=\"366,-542 298,-542 298,-508 366,-508 366,-542\"/>\n<text text-anchor=\"middle\" x=\"332\" y=\"-528.4\" font-family=\"Times,serif\" font-size=\"12.00\" fill=\"#000000\">conv2.bias</text>\n<text text-anchor=\"middle\" x=\"332\" y=\"-515.4\" font-family=\"Times,serif\" font-size=\"12.00\" fill=\"#000000\"> (32)</text>\n</g>\n<!-- 139979293365920&#45;&gt;139979293364296 -->\n<g id=\"edge16\" class=\"edge\">\n<title>139979293365920&#45;&gt;139979293364296</title>\n<path fill=\"none\" stroke=\"#000000\" d=\"M307.0777,-507.9832C293.3955,-498.641 276.5107,-487.1122 262.9799,-477.8734\"/>\n<polygon fill=\"#000000\" stroke=\"#000000\" points=\"264.872,-474.9273 254.6398,-472.1788 260.9248,-480.7082 264.872,-474.9273\"/>\n</g>\n<!-- 139979293364520 -->\n<g id=\"node18\" class=\"node\">\n<title>139979293364520</title>\n<polygon fill=\"#d3d3d3\" stroke=\"#000000\" points=\"375.5,-224.5 302.5,-224.5 302.5,-203.5 375.5,-203.5 375.5,-224.5\"/>\n<text text-anchor=\"middle\" x=\"339\" y=\"-210.9\" font-family=\"Times,serif\" font-size=\"12.00\" fill=\"#000000\">TBackward</text>\n</g>\n<!-- 139979293364520&#45;&gt;139979292803872 -->\n<g id=\"edge17\" class=\"edge\">\n<title>139979293364520&#45;&gt;139979292803872</title>\n<path fill=\"none\" stroke=\"#000000\" d=\"M323.8122,-203.3685C307.492,-191.9444 281.3486,-173.644 262.398,-160.3786\"/>\n<polygon fill=\"#000000\" stroke=\"#000000\" points=\"264.2026,-157.3695 254.0031,-154.5022 260.1883,-163.1042 264.2026,-157.3695\"/>\n</g>\n<!-- 139979293366872 -->\n<g id=\"node19\" class=\"node\">\n<title>139979293366872</title>\n<polygon fill=\"#add8e6\" stroke=\"#000000\" points=\"373.5,-301 304.5,-301 304.5,-267 373.5,-267 373.5,-301\"/>\n<text text-anchor=\"middle\" x=\"339\" y=\"-287.4\" font-family=\"Times,serif\" font-size=\"12.00\" fill=\"#000000\">fc1.weight</text>\n<text text-anchor=\"middle\" x=\"339\" y=\"-274.4\" font-family=\"Times,serif\" font-size=\"12.00\" fill=\"#000000\"> (64, 1568)</text>\n</g>\n<!-- 139979293366872&#45;&gt;139979293364520 -->\n<g id=\"edge18\" class=\"edge\">\n<title>139979293366872&#45;&gt;139979293364520</title>\n<path fill=\"none\" stroke=\"#000000\" d=\"M339,-266.6966C339,-257.0634 339,-245.003 339,-234.8518\"/>\n<polygon fill=\"#000000\" stroke=\"#000000\" points=\"342.5001,-234.7912 339,-224.7913 335.5001,-234.7913 342.5001,-234.7912\"/>\n</g>\n<!-- 139979292806168 -->\n<g id=\"node20\" class=\"node\">\n<title>139979292806168</title>\n<polygon fill=\"#d3d3d3\" stroke=\"#000000\" points=\"379.5,-84.5 306.5,-84.5 306.5,-63.5 379.5,-63.5 379.5,-84.5\"/>\n<text text-anchor=\"middle\" x=\"343\" y=\"-70.9\" font-family=\"Times,serif\" font-size=\"12.00\" fill=\"#000000\">TBackward</text>\n</g>\n<!-- 139979292806168&#45;&gt;139979292804936 -->\n<g id=\"edge19\" class=\"edge\">\n<title>139979292806168&#45;&gt;139979292804936</title>\n<path fill=\"none\" stroke=\"#000000\" d=\"M325.5275,-63.2281C309.1519,-53.1325 284.4682,-37.9149 265.8209,-26.4187\"/>\n<polygon fill=\"#000000\" stroke=\"#000000\" points=\"267.5636,-23.3814 257.2145,-21.1128 263.8901,-29.3401 267.5636,-23.3814\"/>\n</g>\n<!-- 139979293365976 -->\n<g id=\"node21\" class=\"node\">\n<title>139979293365976</title>\n<polygon fill=\"#add8e6\" stroke=\"#000000\" points=\"376.5,-161 309.5,-161 309.5,-127 376.5,-127 376.5,-161\"/>\n<text text-anchor=\"middle\" x=\"343\" y=\"-147.4\" font-family=\"Times,serif\" font-size=\"12.00\" fill=\"#000000\">fc3.weight</text>\n<text text-anchor=\"middle\" x=\"343\" y=\"-134.4\" font-family=\"Times,serif\" font-size=\"12.00\" fill=\"#000000\"> (6, 64)</text>\n</g>\n<!-- 139979293365976&#45;&gt;139979292806168 -->\n<g id=\"edge20\" class=\"edge\">\n<title>139979293365976&#45;&gt;139979292806168</title>\n<path fill=\"none\" stroke=\"#000000\" d=\"M343,-126.6966C343,-117.0634 343,-105.003 343,-94.8518\"/>\n<polygon fill=\"#000000\" stroke=\"#000000\" points=\"346.5001,-94.7912 343,-84.7913 339.5001,-94.7913 346.5001,-94.7912\"/>\n</g>\n</g>\n</svg>\n"
          },
          "metadata": {
            "tags": []
          },
          "execution_count": 19
        }
      ]
    },
    {
      "cell_type": "code",
      "metadata": {
        "id": "a_9CTlb4Yx7-",
        "colab_type": "code",
        "colab": {}
      },
      "source": [
        "# Define training parameters\n",
        "batch_size = 128\n",
        "learning_rate = 1e-2\n",
        "n_epochs = 2\n",
        "# Get our data into the mini batch size that we defined\n",
        "train_loader = torch.utils.data.DataLoader(train_set, batch_size = batch_size, sampler=train_sampler, num_workers = 2)\n",
        "test_loader = torch.utils.data.DataLoader(test_set, batch_size = 128, sampler=test_sampler, num_workers = 2)\n",
        "\n",
        "def train_model(net):\n",
        "    \"\"\" Train a the specified network.\n",
        "\n",
        "        Outputs a tuple with the following four elements\n",
        "        train_hist_x: the x-values (batch number) that the training set was \n",
        "            evaluated on.\n",
        "        train_loss_hist: the loss values for the training set corresponding to\n",
        "            the batch numbers returned in train_hist_x\n",
        "        test_hist_x: the x-values (batch number) that the test set was \n",
        "            evaluated on.\n",
        "        test_loss_hist: the loss values for the test set corresponding to\n",
        "            the batch numbers returned in test_hist_x\n",
        "    \"\"\" \n",
        "    loss, optimizer = net.get_loss(learning_rate)\n",
        "    # Define some parameters to keep track of metrics\n",
        "    print_every = 200\n",
        "    idx = 0\n",
        "    train_hist_x = []\n",
        "    train_loss_hist = []\n",
        "    test_hist_x = []\n",
        "    test_loss_hist = []\n",
        "\n",
        "    training_start_time = time.time()\n",
        "    # Loop for n_epochs\n",
        "    for epoch in range(n_epochs):\n",
        "        running_loss = 0.0\n",
        "        start_time = time.time()\n",
        "\n",
        "        for i, data in enumerate(train_loader, 0):\n",
        "\n",
        "            # Get inputs in right form\n",
        "            inputs, labels = data\n",
        "            inputs, labels = Variable(inputs).to(device), Variable(labels).to(device)\n",
        "            \n",
        "            # In Pytorch, We need to always remember to set the optimizer gradients to 0 before we recompute the new gradients\n",
        "            optimizer.zero_grad()\n",
        "\n",
        "            # Forward pass\n",
        "            outputs = net(inputs)\n",
        "            \n",
        "            # Compute the loss and find the loss with respect to each parameter of the model\n",
        "            loss_size = loss(outputs, labels)\n",
        "            loss_size.backward()\n",
        "            \n",
        "            # Change each parameter with respect to the recently computed loss.\n",
        "            optimizer.step()\n",
        "\n",
        "            # Update statistics\n",
        "            running_loss += loss_size.data.item()\n",
        "            \n",
        "            # Print every 20th batch of an epoch\n",
        "            if (i % print_every) == print_every-1:\n",
        "                print(\"Epoch {}, Iteration {}\\t train_loss: {:.2f} took: {:.2f}s\".format(\n",
        "                    epoch + 1, i+1,running_loss / print_every, time.time() - start_time))\n",
        "                # Reset running loss and time\n",
        "                train_loss_hist.append(running_loss / print_every)\n",
        "                train_hist_x.append(idx)\n",
        "                running_loss = 0.0\n",
        "                start_time = time.time()\n",
        "            idx += 1\n",
        "\n",
        "        # At the end of the epoch, do a pass on the test set\n",
        "        total_test_loss = 0\n",
        "        for inputs, labels in test_loader:\n",
        "\n",
        "            # Wrap tensors in Variables\n",
        "            inputs, labels = Variable(inputs).to(device), Variable(labels).to(device)\n",
        "\n",
        "            # Forward pass\n",
        "            test_outputs = net(inputs)\n",
        "            test_loss_size = loss(test_outputs, labels)\n",
        "            total_test_loss += test_loss_size.data.item()\n",
        "        test_loss_hist.append(total_test_loss / len(test_loader))\n",
        "        test_hist_x.append(idx)\n",
        "        print(\"Validation loss = {:.2f}\".format(\n",
        "            total_test_loss / len(test_loader)))\n",
        "\n",
        "    print(\"Training finished, took {:.2f}s\".format(\n",
        "        time.time() - training_start_time))\n",
        "    return train_hist_x, train_loss_hist, test_hist_x, test_loss_hist"
      ],
      "execution_count": 0,
      "outputs": []
    },
    {
      "cell_type": "code",
      "metadata": {
        "id": "cGyZdjgNjf_h",
        "colab_type": "code",
        "outputId": "79bdd6a8-78be-4e69-d05e-af0bf87dc056",
        "colab": {
          "base_uri": "https://localhost:8080/",
          "height": 1000
        }
      },
      "source": [
        "train_hist_x, train_loss_hist, test_hist_x, test_loss_hist = train_model(net)"
      ],
      "execution_count": 21,
      "outputs": [
        {
          "output_type": "stream",
          "text": [
            "Epoch 1, Iteration 200\t train_loss: 1.59 took: 2.08s\n",
            "Epoch 1, Iteration 400\t train_loss: 0.66 took: 1.77s\n",
            "Epoch 1, Iteration 600\t train_loss: 0.60 took: 1.73s\n",
            "Epoch 1, Iteration 800\t train_loss: 0.56 took: 1.84s\n",
            "Epoch 1, Iteration 1000\t train_loss: 0.56 took: 1.76s\n",
            "Epoch 1, Iteration 1200\t train_loss: 0.54 took: 1.79s\n",
            "Epoch 1, Iteration 1400\t train_loss: 0.54 took: 1.73s\n",
            "Epoch 1, Iteration 1600\t train_loss: 0.54 took: 1.75s\n",
            "Epoch 1, Iteration 1800\t train_loss: 0.54 took: 1.77s\n",
            "Epoch 1, Iteration 2000\t train_loss: 0.53 took: 1.74s\n",
            "Epoch 1, Iteration 2200\t train_loss: 0.52 took: 1.92s\n",
            "Epoch 1, Iteration 2400\t train_loss: 0.51 took: 1.79s\n",
            "Epoch 1, Iteration 2600\t train_loss: 0.50 took: 1.68s\n",
            "Epoch 1, Iteration 2800\t train_loss: 0.50 took: 1.80s\n",
            "Epoch 1, Iteration 3000\t train_loss: 0.49 took: 1.80s\n",
            "Epoch 1, Iteration 3200\t train_loss: 0.48 took: 1.78s\n",
            "Epoch 1, Iteration 3400\t train_loss: 0.47 took: 1.71s\n",
            "Epoch 1, Iteration 3600\t train_loss: 0.46 took: 1.74s\n",
            "Epoch 1, Iteration 3800\t train_loss: 0.46 took: 1.65s\n",
            "Epoch 1, Iteration 4000\t train_loss: 0.45 took: 1.70s\n",
            "Epoch 1, Iteration 4200\t train_loss: 0.43 took: 1.68s\n",
            "Epoch 1, Iteration 4400\t train_loss: 0.44 took: 1.71s\n",
            "Epoch 1, Iteration 4600\t train_loss: 0.42 took: 1.70s\n",
            "Epoch 1, Iteration 4800\t train_loss: 0.41 took: 1.85s\n",
            "Epoch 1, Iteration 5000\t train_loss: 0.42 took: 1.80s\n",
            "Epoch 1, Iteration 5200\t train_loss: 0.41 took: 1.76s\n",
            "Epoch 1, Iteration 5400\t train_loss: 0.40 took: 1.70s\n",
            "Epoch 1, Iteration 5600\t train_loss: 0.41 took: 1.66s\n",
            "Validation loss = 0.40\n",
            "Epoch 2, Iteration 200\t train_loss: 0.41 took: 2.01s\n",
            "Epoch 2, Iteration 400\t train_loss: 0.41 took: 1.83s\n",
            "Epoch 2, Iteration 600\t train_loss: 0.41 took: 2.00s\n",
            "Epoch 2, Iteration 800\t train_loss: 0.41 took: 1.78s\n",
            "Epoch 2, Iteration 1000\t train_loss: 0.40 took: 1.79s\n",
            "Epoch 2, Iteration 1200\t train_loss: 0.40 took: 1.88s\n",
            "Epoch 2, Iteration 1400\t train_loss: 0.40 took: 1.77s\n",
            "Epoch 2, Iteration 1600\t train_loss: 0.39 took: 1.80s\n",
            "Epoch 2, Iteration 1800\t train_loss: 0.40 took: 1.68s\n",
            "Epoch 2, Iteration 2000\t train_loss: 0.40 took: 1.69s\n",
            "Epoch 2, Iteration 2200\t train_loss: 0.42 took: 1.74s\n",
            "Epoch 2, Iteration 2400\t train_loss: 0.39 took: 1.78s\n",
            "Epoch 2, Iteration 2600\t train_loss: 0.40 took: 1.67s\n",
            "Epoch 2, Iteration 2800\t train_loss: 0.40 took: 1.68s\n",
            "Epoch 2, Iteration 3000\t train_loss: 0.40 took: 1.72s\n",
            "Epoch 2, Iteration 3200\t train_loss: 0.40 took: 1.87s\n",
            "Epoch 2, Iteration 3400\t train_loss: 0.39 took: 1.90s\n",
            "Epoch 2, Iteration 3600\t train_loss: 0.39 took: 1.82s\n",
            "Epoch 2, Iteration 3800\t train_loss: 0.40 took: 1.69s\n",
            "Epoch 2, Iteration 4000\t train_loss: 0.38 took: 1.64s\n",
            "Epoch 2, Iteration 4200\t train_loss: 0.40 took: 1.79s\n",
            "Epoch 2, Iteration 4400\t train_loss: 0.39 took: 1.69s\n",
            "Epoch 2, Iteration 4600\t train_loss: 0.40 took: 1.68s\n",
            "Epoch 2, Iteration 4800\t train_loss: 0.40 took: 1.73s\n",
            "Epoch 2, Iteration 5000\t train_loss: 0.39 took: 1.77s\n",
            "Epoch 2, Iteration 5200\t train_loss: 0.38 took: 1.78s\n",
            "Epoch 2, Iteration 5400\t train_loss: 0.39 took: 1.78s\n",
            "Epoch 2, Iteration 5600\t train_loss: 0.39 took: 1.76s\n",
            "Validation loss = 0.40\n",
            "Training finished, took 110.13s\n"
          ],
          "name": "stdout"
        }
      ]
    },
    {
      "cell_type": "code",
      "metadata": {
        "id": "sVNSsFzVji6W",
        "colab_type": "code",
        "outputId": "0e1f305b-40ed-48d8-dd0a-75e9318c1776",
        "colab": {
          "base_uri": "https://localhost:8080/",
          "height": 283
        }
      },
      "source": [
        "plt.plot(train_hist_x,train_loss_hist)\n",
        "plt.plot(test_hist_x,test_loss_hist)\n",
        "plt.legend(['train loss', 'validation loss'])\n",
        "plt.xlabel('Batch number')\n",
        "plt.ylabel('Loss')\n",
        "plt.xlim(0,12000)\n",
        "plt.ylim(0,2)\n",
        "plt.show()\n"
      ],
      "execution_count": 22,
      "outputs": [
        {
          "output_type": "display_data",
          "data": {
            "image/png": "[encoded data removed]",
            "text/plain": [
              "<Figure size 432x288 with 1 Axes>"
            ]
          },
          "metadata": {
            "tags": []
          }
        }
      ]
    },
    {
      "cell_type": "code",
      "metadata": {
        "id": "vQ13LfcF3Ji2",
        "colab_type": "code",
        "outputId": "d7c45f42-d211-43e0-adc9-3a593f4d77b1",
        "colab": {
          "base_uri": "https://localhost:8080/",
          "height": 51
        }
      },
      "source": [
        "def get_accuracy(net, loader):\n",
        "    n_correct = 0\n",
        "    n_total = 0\n",
        "    for i, data in enumerate(loader, 0):\n",
        "        # Get inputs in right form\n",
        "        inputs, labels = data\n",
        "        inputs, labels = Variable(inputs).to(device), Variable(labels).to(device)\n",
        "\n",
        "        # Forward pass\n",
        "        outputs = net(inputs)\n",
        "        n_correct += np.sum(np.argmax(outputs.cpu().detach().numpy(), axis=1) == labels.cpu().numpy())\n",
        "        n_total += labels.shape[0]\n",
        "    return n_correct/n_total\n",
        "print(\"Train accuracy is\", get_accuracy(net, train_loader))\n",
        "print(\"Test accuracy is\", get_accuracy(net, test_loader))"
      ],
      "execution_count": 23,
      "outputs": [
        {
          "output_type": "stream",
          "text": [
            "Train accuracy is 0.8674371075125407\n",
            "Test accuracy is 0.8662009476369822\n"
          ],
          "name": "stdout"
        }
      ]
    },
    {
      "cell_type": "code",
      "metadata": {
        "id": "TqMZxrWj47rA",
        "colab_type": "code",
        "outputId": "2f70b402-1c27-40d9-e260-2b1202a3f658",
        "colab": {
          "base_uri": "https://localhost:8080/",
          "height": 320
        }
      },
      "source": [
        "def examine_label(idx):\n",
        "    image, label = test_set[idx]\n",
        "    class_scores = net(Variable(image.unsqueeze(0)).to(device))\n",
        "    prediction = np.argmax(class_scores.cpu().detach().numpy())\n",
        "    confidence = class_scores.cpu().detach().numpy()\n",
        "    plt.imshow(image.squeeze(), cmap='gray')\n",
        "    plt.show()\n",
        "    print(prediction)\n",
        "    print(label)\n",
        "    print(max(confidence[0])/sum(confidence[0]))\n",
        "\n",
        "examine_label(11127)\n"
      ],
      "execution_count": 24,
      "outputs": [
        {
          "output_type": "display_data",
          "data": {
            "image/png": "[encoded data removed]",
            "text/plain": [
              "<Figure size 432x288 with 1 Axes>"
            ]
          },
          "metadata": {
            "tags": []
          }
        },
        {
          "output_type": "stream",
          "text": [
            "0\n",
            "0\n",
            "2.4569053058240926\n"
          ],
          "name": "stdout"
        }
      ]
    },
    {
      "cell_type": "code",
      "metadata": {
        "id": "iSeuwv8R5NGt",
        "colab_type": "code",
        "colab": {}
      },
      "source": [
        ""
      ],
      "execution_count": 0,
      "outputs": []
    }
  ]
}