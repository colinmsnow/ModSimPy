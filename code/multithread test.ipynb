{
 "cells": [
  {
   "cell_type": "code",
   "execution_count": 19,
   "metadata": {},
   "outputs": [
    {
     "name": "stdout",
     "output_type": "stream",
     "text": [
      "Square: 100\n",
      "Done!\n"
     ]
    }
   ],
   "source": [
    "# Python program to illustrate the concept \n",
    "# of threading \n",
    "# importing the threading module \n",
    "import threading \n",
    "  \n",
    "def print_cube(num): \n",
    "    \"\"\" \n",
    "    function to print cube of given num \n",
    "    \"\"\"\n",
    "    global results1\n",
    "    results1=(\"Cube: {}\".format(num * num * num))\n",
    "  \n",
    "def print_square(num): \n",
    "    \"\"\" \n",
    "    function to print square of given num \n",
    "    \"\"\"\n",
    "    print(\"Square: {}\".format(num * num)) \n",
    "  \n",
    "if __name__ == \"__main__\": \n",
    "    # creating thread \n",
    "    t1 = threading.Thread(print_square(10)) \n",
    "    t2 = threading.Thread(print_cube(10)) \n",
    "  \n",
    "    # starting thread 1 \n",
    "    t1.start() \n",
    "    # starting thread 2 \n",
    "    t2.start() \n",
    "  \n",
    "    # wait until thread 1 is completely executed \n",
    "    t1.join() \n",
    "    # wait until thread 2 is completely executed \n",
    "    t2.join() \n",
    "  \n",
    "    # both threads completely executed \n",
    "    print(\"Done!\") "
   ]
  },
  {
   "cell_type": "code",
   "execution_count": null,
   "metadata": {},
   "outputs": [],
   "source": []
  },
  {
   "cell_type": "code",
   "execution_count": null,
   "metadata": {},
   "outputs": [],
   "source": []
  }
 ],
 "metadata": {
  "kernelspec": {
   "display_name": "Python 3",
   "language": "python",
   "name": "python3"
  },
  "language_info": {
   "codemirror_mode": {
    "name": "ipython",
    "version": 3
   },
   "file_extension": ".py",
   "mimetype": "text/x-python",
   "name": "python",
   "nbconvert_exporter": "python",
   "pygments_lexer": "ipython3",
   "version": "3.6.6"
  }
 },
 "nbformat": 4,
 "nbformat_minor": 2
}
