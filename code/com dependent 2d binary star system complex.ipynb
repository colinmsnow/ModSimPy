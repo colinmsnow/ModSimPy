{
 "cells": [
  {
   "cell_type": "code",
   "execution_count": 1,
   "metadata": {},
   "outputs": [],
   "source": [
    "# Configure Jupyter so figures appear in the notebook\n",
    "import matplotlib.pyplot as plt\n",
    "%matplotlib inline\n",
    "\n",
    "# Configure Jupyter to display the assigned value after an assignment\n",
    "%config InteractiveShell.ast_node_interactivity='last_expr_or_assign'\n",
    "\n",
    "# import functions from the modsim.py module\n",
    "from modsim import *"
   ]
  },
  {
   "cell_type": "code",
   "execution_count": 2,
   "metadata": {},
   "outputs": [
    {
     "data": {
      "text/html": [
       "kilogram"
      ],
      "text/latex": [
       "$kilogram$"
      ],
      "text/plain": [
       "<Unit('kilogram')>"
      ]
     },
     "execution_count": 2,
     "metadata": {},
     "output_type": "execute_result"
    }
   ],
   "source": [
    "m = UNITS.meter\n",
    "s = UNITS.second\n",
    "kg =UNITS.kilogram"
   ]
  },
  {
   "cell_type": "code",
   "execution_count": 10,
   "metadata": {},
   "outputs": [
    {
     "name": "stdout",
     "output_type": "stream",
     "text": [
      "[0. 0.] dimensionless [   0. 2000.] dimensionless\n"
     ]
    },
    {
     "data": {
      "text/html": [
       "<div>\n",
       "<style scoped>\n",
       "    .dataframe tbody tr th:only-of-type {\n",
       "        vertical-align: middle;\n",
       "    }\n",
       "\n",
       "    .dataframe tbody tr th {\n",
       "        vertical-align: top;\n",
       "    }\n",
       "\n",
       "    .dataframe thead th {\n",
       "        text-align: right;\n",
       "    }\n",
       "</style>\n",
       "<table border=\"1\" class=\"dataframe\">\n",
       "  <thead>\n",
       "    <tr style=\"text-align: right;\">\n",
       "      <th></th>\n",
       "      <th>values</th>\n",
       "    </tr>\n",
       "  </thead>\n",
       "  <tbody>\n",
       "    <tr>\n",
       "      <th>x1</th>\n",
       "      <td>1000000000000.0 dimensionless</td>\n",
       "    </tr>\n",
       "    <tr>\n",
       "      <th>y1</th>\n",
       "      <td>-100000000000.0 dimensionless</td>\n",
       "    </tr>\n",
       "    <tr>\n",
       "      <th>vx1</th>\n",
       "      <td>-0.0 dimensionless</td>\n",
       "    </tr>\n",
       "    <tr>\n",
       "      <th>vy1</th>\n",
       "      <td>2000.0 dimensionless</td>\n",
       "    </tr>\n",
       "    <tr>\n",
       "      <th>x2</th>\n",
       "      <td>-1000000000000.0 dimensionless</td>\n",
       "    </tr>\n",
       "    <tr>\n",
       "      <th>y2</th>\n",
       "      <td>100000000000.0 dimensionless</td>\n",
       "    </tr>\n",
       "    <tr>\n",
       "      <th>vx2</th>\n",
       "      <td>-0.0 dimensionless</td>\n",
       "    </tr>\n",
       "    <tr>\n",
       "      <th>vy2</th>\n",
       "      <td>-2000.0 dimensionless</td>\n",
       "    </tr>\n",
       "  </tbody>\n",
       "</table>\n",
       "</div>"
      ],
      "text/plain": [
       "x1      1000000000000.0 dimensionless\n",
       "y1      -100000000000.0 dimensionless\n",
       "vx1                -0.0 dimensionless\n",
       "vy1              2000.0 dimensionless\n",
       "x2     -1000000000000.0 dimensionless\n",
       "y2       100000000000.0 dimensionless\n",
       "vx2                -0.0 dimensionless\n",
       "vy2             -2000.0 dimensionless\n",
       "dtype: object"
      ]
     },
     "execution_count": 10,
     "metadata": {},
     "output_type": "execute_result"
    }
   ],
   "source": [
    "t_end=6e8 * s\n",
    "# init=State(x1=1e12*m,\n",
    "#            y1=1e12*m,\n",
    "#            vx1=4000*m/s,\n",
    "#            vy1=0*m/s,\n",
    "#            x2=-1e12*m,\n",
    "#            y2=-1e12*m,\n",
    "#            vx2=0*m/s,\n",
    "#            vy2=0*m/s)\n",
    "\n",
    "x1=1e12\n",
    "y1=-1e11\n",
    "vx1=0\n",
    "vy1=4000\n",
    "\n",
    "x2=-1e12\n",
    "y2=1e11\n",
    "vx2=0\n",
    "vy2=0\n",
    "m1=1.989e30\n",
    "m2=1.989e30\n",
    "\n",
    "\n",
    "\n",
    "velocity1=Vector(vx1,vy1)\n",
    "velocity2=Vector(vx2,vy2)\n",
    "position1=Vector(x1,y1)\n",
    "position2=Vector(x2,y2)\n",
    "com_position=(position1*m1+position2*m2)/(m1+m2)\n",
    "com_velocity=(velocity1*m1+velocity2*m2)/(m1+m2)\n",
    "print(com_position,com_velocity)\n",
    "\n",
    "# r=np.sqrt((init.x1-init.x2)**2+(init.y1-init.y2)**2)\n",
    "# r1=(system.m2/(system.m1+system.m2))*r\n",
    "# r2=(system.m1/(system.m1+system.m2))*r\n",
    "# theta=np.arcsin((init.x1-init.x2)/r)\n",
    "\n",
    "\n",
    "init=State(x1=x1-com_position.x,\n",
    "           y1=y1-com_position.y,\n",
    "           vx1=vx1-com_velocity.x,\n",
    "           vy1=vy1-com_velocity.y,\n",
    "           x2=x2-com_position.x,\n",
    "           y2=y2-com_position.y,\n",
    "           vx2=vx2-com_velocity.x,\n",
    "           vy2=vy2-com_velocity.y)\n",
    "\n",
    "# init=State(x1=r1*np.sin(theta)*m,\n",
    "#            y1=r1*np.cos(theta)*m,\n",
    "#            vx1=init.vx1-com_velocity.x,\n",
    "#            vy1=init.vy1-com_velocity.y,\n",
    "#            x2=r2*np.sin(pi+theta)*m,\n",
    "#            y2=r2*np.cos(pi+theta)*m,\n",
    "#            vx2=init.vx2-com_velocity.x,\n",
    "#            vy2=init.vy2-com_velocity.y)\n",
    "system = System(init=init, \n",
    "                m1=1.989e30, \n",
    "                m2=1.989e30, \n",
    "                G=6.67e-11, \n",
    "                t_end=t_end)\n",
    "init\n",
    "\n",
    "\n"
   ]
  },
  {
   "cell_type": "code",
   "execution_count": null,
   "metadata": {},
   "outputs": [],
   "source": []
  },
  {
   "cell_type": "code",
   "execution_count": 11,
   "metadata": {},
   "outputs": [
    {
     "data": {
      "text/plain": [
       "[<matplotlib.lines.Line2D at 0x209615b0dd8>]"
      ]
     },
     "execution_count": 11,
     "metadata": {},
     "output_type": "execute_result"
    },
    {
     "data": {
      "image/png": "[encoded data removed]",
      "text/plain": [
       "<Figure size 432x288 with 1 Axes>"
      ]
     },
     "metadata": {},
     "output_type": "display_data"
    }
   ],
   "source": [
    "plot(init.x1,init.y1,'*',color='red')\n",
    "plot(init.x2,init.y2,'*',color='blue')"
   ]
  },
  {
   "cell_type": "code",
   "execution_count": 12,
   "metadata": {},
   "outputs": [],
   "source": [
    "def slope_func(state, t, system):\n",
    "    \"\"\"Compute derivatives of the state.\n",
    "    \n",
    "    state: position, velocity\n",
    "    t: time\n",
    "    system: System object containing `g`\n",
    "    \n",
    "    returns: derivatives of y and v\n",
    "    \"\"\"\n",
    "    x1,y1,vx1,vy1,x2,y2,vx2,vy2 = state\n",
    "    unpack(system)\n",
    "    velocity1=Vector(vx1,vy1)\n",
    "    position1=Vector(x1,y1)\n",
    "    velocity2=Vector(vx2,vy2)\n",
    "    position2=Vector(x2,y2)\n",
    "    r=sqrt((x1-x2)**2+(y1-y2)**2)\n",
    "    force=-G*m1*m2/(r**2)\n",
    "\n",
    "    acceleration1=force/m1\n",
    "    acceleration2=force/m2\n",
    "    dx1dt=vx1\n",
    "    dy1dt=vy1\n",
    "    dx2dt=vx2\n",
    "    dy2dt=vy2\n",
    "    theta1=position1.angle\n",
    "    theta2=position2.angle\n",
    "    dvx1dt,dvy1dt=pol2cart(theta1,acceleration1)\n",
    "    dvx2dt,dvy2dt=pol2cart(theta2,acceleration2)\n",
    "#     dvx1dt=acceleration1*np.cos(theta1)\n",
    "#     dvy1dt=acceleration1*np.sin(theta1)\n",
    "#     dvx2dt=acceleration2*np.cos(theta2)\n",
    "#     dvy2dt=acceleration2*np.sin(theta2)\n",
    "    \n",
    "\n",
    "    \n",
    "    return dx1dt,dy1dt,dvx1dt,dvy1dt,dx2dt,dy2dt,dvx2dt,dvy2dt"
   ]
  },
  {
   "cell_type": "code",
   "execution_count": 13,
   "metadata": {},
   "outputs": [
    {
     "data": {
      "text/html": [
       "<div>\n",
       "<style scoped>\n",
       "    .dataframe tbody tr th:only-of-type {\n",
       "        vertical-align: middle;\n",
       "    }\n",
       "\n",
       "    .dataframe tbody tr th {\n",
       "        vertical-align: top;\n",
       "    }\n",
       "\n",
       "    .dataframe thead th {\n",
       "        text-align: right;\n",
       "    }\n",
       "</style>\n",
       "<table border=\"1\" class=\"dataframe\">\n",
       "  <thead>\n",
       "    <tr style=\"text-align: right;\">\n",
       "      <th></th>\n",
       "      <th>values</th>\n",
       "    </tr>\n",
       "  </thead>\n",
       "  <tbody>\n",
       "    <tr>\n",
       "      <th>sol</th>\n",
       "      <td>None</td>\n",
       "    </tr>\n",
       "    <tr>\n",
       "      <th>t_events</th>\n",
       "      <td>[]</td>\n",
       "    </tr>\n",
       "    <tr>\n",
       "      <th>nfev</th>\n",
       "      <td>3644</td>\n",
       "    </tr>\n",
       "    <tr>\n",
       "      <th>njev</th>\n",
       "      <td>0</td>\n",
       "    </tr>\n",
       "    <tr>\n",
       "      <th>nlu</th>\n",
       "      <td>0</td>\n",
       "    </tr>\n",
       "    <tr>\n",
       "      <th>status</th>\n",
       "      <td>0</td>\n",
       "    </tr>\n",
       "    <tr>\n",
       "      <th>message</th>\n",
       "      <td>The solver successfully reached the end of the...</td>\n",
       "    </tr>\n",
       "    <tr>\n",
       "      <th>success</th>\n",
       "      <td>True</td>\n",
       "    </tr>\n",
       "  </tbody>\n",
       "</table>\n",
       "</div>"
      ],
      "text/plain": [
       "sol                                                      None\n",
       "t_events                                                   []\n",
       "nfev                                                     3644\n",
       "njev                                                        0\n",
       "nlu                                                         0\n",
       "status                                                      0\n",
       "message     The solver successfully reached the end of the...\n",
       "success                                                  True\n",
       "dtype: object"
      ]
     },
     "execution_count": 13,
     "metadata": {},
     "output_type": "execute_result"
    }
   ],
   "source": [
    "results, details = run_ode_solver(system, slope_func,max_step=1e6)\n",
    "details"
   ]
  },
  {
   "cell_type": "code",
   "execution_count": 14,
   "metadata": {},
   "outputs": [
    {
     "data": {
      "text/plain": [
       "[<matplotlib.lines.Line2D at 0x20961639ac8>]"
      ]
     },
     "execution_count": 14,
     "metadata": {},
     "output_type": "execute_result"
    },
    {
     "data": {
      "image/png": "[encoded data removed]",
      "text/plain": [
       "<Figure size 432x288 with 1 Axes>"
      ]
     },
     "metadata": {},
     "output_type": "display_data"
    }
   ],
   "source": [
    "plot(results.x1,results.y1,'red')\n",
    "plot(results.x2,results.y2,'blue')"
   ]
  },
  {
   "cell_type": "code",
   "execution_count": null,
   "metadata": {},
   "outputs": [],
   "source": []
  },
  {
   "cell_type": "code",
   "execution_count": 15,
   "metadata": {},
   "outputs": [],
   "source": [
    "# from mpl_toolkits.mplot3d import Axes3D"
   ]
  },
  {
   "cell_type": "code",
   "execution_count": 16,
   "metadata": {},
   "outputs": [],
   "source": [
    "# from mpl_toolkits.mplot3d import axes3d\n",
    "# import matplotlib.pyplot as plt\n",
    "\n",
    "\n",
    "# fig = plt.figure()\n",
    "# ax = fig.add_subplot(111, projection='3d')\n",
    "\n",
    "# # Grab some test data.\n",
    "# X, Y, Z = axes3d.get_test_data(0.05)\n",
    "\n",
    "# # Plot a basic wireframe.\n",
    "# ax.scatter(results.x1, results.y1, results.index)\n",
    "# ax.scatter(results.x2, results.y2, results.index)\n",
    "# plt.show()\n"
   ]
  },
  {
   "cell_type": "code",
   "execution_count": null,
   "metadata": {},
   "outputs": [],
   "source": []
  },
  {
   "cell_type": "code",
   "execution_count": null,
   "metadata": {},
   "outputs": [],
   "source": []
  },
  {
   "cell_type": "code",
   "execution_count": null,
   "metadata": {},
   "outputs": [],
   "source": []
  },
  {
   "cell_type": "code",
   "execution_count": null,
   "metadata": {},
   "outputs": [],
   "source": []
  },
  {
   "cell_type": "code",
   "execution_count": null,
   "metadata": {},
   "outputs": [],
   "source": []
  }
 ],
 "metadata": {
  "kernelspec": {
   "display_name": "Python 3",
   "language": "python",
   "name": "python3"
  },
  "language_info": {
   "codemirror_mode": {
    "name": "ipython",
    "version": 3
   },
   "file_extension": ".py",
   "mimetype": "text/x-python",
   "name": "python",
   "nbconvert_exporter": "python",
   "pygments_lexer": "ipython3",
   "version": "3.6.6"
  }
 },
 "nbformat": 4,
 "nbformat_minor": 2
}
