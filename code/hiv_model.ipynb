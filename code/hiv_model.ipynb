{
 "cells": [
  {
   "cell_type": "code",
   "execution_count": 1,
   "metadata": {},
   "outputs": [],
   "source": [
    "# Configure Jupyter so figures appear in the notebook\n",
    "%matplotlib inline\n",
    "\n",
    "# Configure Jupyter to display the assigned value after an assignment\n",
    "%config InteractiveShell.ast_node_interactivity='last_expr_or_assign'\n",
    "\n",
    "# import functions from the modsim.py module\n",
    "from modsim import *"
   ]
  },
  {
   "cell_type": "code",
   "execution_count": 2,
   "metadata": {},
   "outputs": [
    {
     "data": {
      "text/html": [
       "<div>\n",
       "<style scoped>\n",
       "    .dataframe tbody tr th:only-of-type {\n",
       "        vertical-align: middle;\n",
       "    }\n",
       "\n",
       "    .dataframe tbody tr th {\n",
       "        vertical-align: top;\n",
       "    }\n",
       "\n",
       "    .dataframe thead th {\n",
       "        text-align: right;\n",
       "    }\n",
       "</style>\n",
       "<table border=\"1\" class=\"dataframe\">\n",
       "  <thead>\n",
       "    <tr style=\"text-align: right;\">\n",
       "      <th></th>\n",
       "      <th>R</th>\n",
       "      <th>L</th>\n",
       "      <th>E</th>\n",
       "      <th>V</th>\n",
       "    </tr>\n",
       "  </thead>\n",
       "  <tbody>\n",
       "  </tbody>\n",
       "</table>\n",
       "</div>"
      ],
      "text/plain": [
       "Empty TimeFrame\n",
       "Columns: [R, L, E, V]\n",
       "Index: []"
      ]
     },
     "execution_count": 2,
     "metadata": {},
     "output_type": "execute_result"
    }
   ],
   "source": [
    "state=State(R=200,L=0,E=0,V=0.0000004)\n",
    "system=System(Γ=1.36, μ=.00136, τ=.2, β=.00027, ρ=.1, α=.036, σ=2, δ=.33, π=100)\n",
    "init = State(R=200,L=0,E=0, V=0.0000004)\n",
    "t0 = 1\n",
    "dt=.01\n",
    "t_end = 120/dt\n",
    "frame = TimeFrame(columns=init.index)\n"
   ]
  },
  {
   "cell_type": "code",
   "execution_count": 3,
   "metadata": {},
   "outputs": [],
   "source": [
    "def update_func(system,t, state):\n",
    "    unpack(system)\n",
    "    unpack(state)\n",
    "    r,l,e,v=state\n",
    "   \n",
    "    r+=(Γ*τ-μ*R-β*R*V)*dt\n",
    "    l+=(ρ*β*R*V-μ*L-α*L)*dt\n",
    "    e+=((1-ρ)*β*R*V+α*L-δ*E)*dt\n",
    "    v+=(π*E-σ*V)*dt\n",
    "    return State(R=r, L=l, E=e,V=v)"
   ]
  },
  {
   "cell_type": "code",
   "execution_count": 4,
   "metadata": {},
   "outputs": [],
   "source": [
    "def run_simulation():\n",
    "    \n",
    "    frame = TimeFrame(columns=init.index)\n",
    "    frame.row[t0] = init\n",
    "    \n",
    "    for t in linrange(t0, t_end):\n",
    "        frame.row[t+1] = update_func(system,t,frame.row[t])\n",
    "    return frame"
   ]
  },
  {
   "cell_type": "code",
   "execution_count": 5,
   "metadata": {},
   "outputs": [
    {
     "data": {
      "text/html": [
       "<div>\n",
       "<style scoped>\n",
       "    .dataframe tbody tr th:only-of-type {\n",
       "        vertical-align: middle;\n",
       "    }\n",
       "\n",
       "    .dataframe tbody tr th {\n",
       "        vertical-align: top;\n",
       "    }\n",
       "\n",
       "    .dataframe thead th {\n",
       "        text-align: right;\n",
       "    }\n",
       "</style>\n",
       "<table border=\"1\" class=\"dataframe\">\n",
       "  <thead>\n",
       "    <tr style=\"text-align: right;\">\n",
       "      <th></th>\n",
       "      <th>R</th>\n",
       "      <th>L</th>\n",
       "      <th>E</th>\n",
       "      <th>V</th>\n",
       "    </tr>\n",
       "  </thead>\n",
       "  <tbody>\n",
       "    <tr>\n",
       "      <th>1</th>\n",
       "      <td>200.000000</td>\n",
       "      <td>0.000000e+00</td>\n",
       "      <td>0.000000e+00</td>\n",
       "      <td>4.000000e-07</td>\n",
       "    </tr>\n",
       "    <tr>\n",
       "      <th>2</th>\n",
       "      <td>200.000000</td>\n",
       "      <td>2.160000e-11</td>\n",
       "      <td>1.944000e-10</td>\n",
       "      <td>3.920000e-07</td>\n",
       "    </tr>\n",
       "    <tr>\n",
       "      <th>3</th>\n",
       "      <td>200.000000</td>\n",
       "      <td>4.275993e-11</td>\n",
       "      <td>3.842783e-10</td>\n",
       "      <td>3.843544e-07</td>\n",
       "    </tr>\n",
       "    <tr>\n",
       "      <th>4</th>\n",
       "      <td>200.000000</td>\n",
       "      <td>6.349909e-11</td>\n",
       "      <td>5.698218e-10</td>\n",
       "      <td>3.770516e-07</td>\n",
       "    </tr>\n",
       "    <tr>\n",
       "      <th>5</th>\n",
       "      <td>200.000000</td>\n",
       "      <td>8.383616e-11</td>\n",
       "      <td>7.512113e-10</td>\n",
       "      <td>3.700804e-07</td>\n",
       "    </tr>\n",
       "    <tr>\n",
       "      <th>6</th>\n",
       "      <td>200.000000</td>\n",
       "      <td>1.037892e-10</td>\n",
       "      <td>9.286215e-10</td>\n",
       "      <td>3.634300e-07</td>\n",
       "    </tr>\n",
       "    <tr>\n",
       "      <th>7</th>\n",
       "      <td>200.000000</td>\n",
       "      <td>1.233756e-10</td>\n",
       "      <td>1.102221e-09</td>\n",
       "      <td>3.570900e-07</td>\n",
       "    </tr>\n",
       "    <tr>\n",
       "      <th>8</th>\n",
       "      <td>200.000000</td>\n",
       "      <td>1.426124e-10</td>\n",
       "      <td>1.272174e-09</td>\n",
       "      <td>3.510504e-07</td>\n",
       "    </tr>\n",
       "    <tr>\n",
       "      <th>9</th>\n",
       "      <td>200.000000</td>\n",
       "      <td>1.615158e-10</td>\n",
       "      <td>1.438638e-09</td>\n",
       "      <td>3.453016e-07</td>\n",
       "    </tr>\n",
       "    <tr>\n",
       "      <th>10</th>\n",
       "      <td>200.000000</td>\n",
       "      <td>1.801018e-10</td>\n",
       "      <td>1.601765e-09</td>\n",
       "      <td>3.398342e-07</td>\n",
       "    </tr>\n",
       "    <tr>\n",
       "      <th>11</th>\n",
       "      <td>200.000000</td>\n",
       "      <td>1.983855e-10</td>\n",
       "      <td>1.761704e-09</td>\n",
       "      <td>3.346393e-07</td>\n",
       "    </tr>\n",
       "    <tr>\n",
       "      <th>12</th>\n",
       "      <td>200.000000</td>\n",
       "      <td>2.163819e-10</td>\n",
       "      <td>1.918596e-09</td>\n",
       "      <td>3.297082e-07</td>\n",
       "    </tr>\n",
       "    <tr>\n",
       "      <th>13</th>\n",
       "      <td>200.000000</td>\n",
       "      <td>2.341053e-10</td>\n",
       "      <td>2.072581e-09</td>\n",
       "      <td>3.250326e-07</td>\n",
       "    </tr>\n",
       "    <tr>\n",
       "      <th>14</th>\n",
       "      <td>200.000000</td>\n",
       "      <td>2.515696e-10</td>\n",
       "      <td>2.223791e-09</td>\n",
       "      <td>3.206046e-07</td>\n",
       "    </tr>\n",
       "    <tr>\n",
       "      <th>15</th>\n",
       "      <td>200.000000</td>\n",
       "      <td>2.687883e-10</td>\n",
       "      <td>2.372357e-09</td>\n",
       "      <td>3.164163e-07</td>\n",
       "    </tr>\n",
       "    <tr>\n",
       "      <th>16</th>\n",
       "      <td>200.000000</td>\n",
       "      <td>2.857744e-10</td>\n",
       "      <td>2.518404e-09</td>\n",
       "      <td>3.124603e-07</td>\n",
       "    </tr>\n",
       "    <tr>\n",
       "      <th>17</th>\n",
       "      <td>200.000000</td>\n",
       "      <td>3.025404e-10</td>\n",
       "      <td>2.662051e-09</td>\n",
       "      <td>3.087295e-07</td>\n",
       "    </tr>\n",
       "    <tr>\n",
       "      <th>18</th>\n",
       "      <td>200.000000</td>\n",
       "      <td>3.190988e-10</td>\n",
       "      <td>2.803418e-09</td>\n",
       "      <td>3.052169e-07</td>\n",
       "    </tr>\n",
       "    <tr>\n",
       "      <th>19</th>\n",
       "      <td>200.000000</td>\n",
       "      <td>3.354613e-10</td>\n",
       "      <td>2.942617e-09</td>\n",
       "      <td>3.019160e-07</td>\n",
       "    </tr>\n",
       "    <tr>\n",
       "      <th>20</th>\n",
       "      <td>200.000000</td>\n",
       "      <td>3.516394e-10</td>\n",
       "      <td>3.079758e-09</td>\n",
       "      <td>2.988203e-07</td>\n",
       "    </tr>\n",
       "    <tr>\n",
       "      <th>21</th>\n",
       "      <td>200.000000</td>\n",
       "      <td>3.676444e-10</td>\n",
       "      <td>3.214948e-09</td>\n",
       "      <td>2.959237e-07</td>\n",
       "    </tr>\n",
       "    <tr>\n",
       "      <th>22</th>\n",
       "      <td>200.000000</td>\n",
       "      <td>3.834869e-10</td>\n",
       "      <td>3.348290e-09</td>\n",
       "      <td>2.932202e-07</td>\n",
       "    </tr>\n",
       "    <tr>\n",
       "      <th>23</th>\n",
       "      <td>200.000000</td>\n",
       "      <td>3.991775e-10</td>\n",
       "      <td>3.479884e-09</td>\n",
       "      <td>2.907040e-07</td>\n",
       "    </tr>\n",
       "    <tr>\n",
       "      <th>24</th>\n",
       "      <td>200.000000</td>\n",
       "      <td>4.147264e-10</td>\n",
       "      <td>3.609826e-09</td>\n",
       "      <td>2.883698e-07</td>\n",
       "    </tr>\n",
       "    <tr>\n",
       "      <th>25</th>\n",
       "      <td>200.000000</td>\n",
       "      <td>4.301434e-10</td>\n",
       "      <td>3.738211e-09</td>\n",
       "      <td>2.862123e-07</td>\n",
       "    </tr>\n",
       "    <tr>\n",
       "      <th>26</th>\n",
       "      <td>200.000000</td>\n",
       "      <td>4.454382e-10</td>\n",
       "      <td>3.865129e-09</td>\n",
       "      <td>2.842262e-07</td>\n",
       "    </tr>\n",
       "    <tr>\n",
       "      <th>27</th>\n",
       "      <td>200.000000</td>\n",
       "      <td>4.606200e-10</td>\n",
       "      <td>3.990668e-09</td>\n",
       "      <td>2.824068e-07</td>\n",
       "    </tr>\n",
       "    <tr>\n",
       "      <th>28</th>\n",
       "      <td>200.000000</td>\n",
       "      <td>4.756979e-10</td>\n",
       "      <td>4.114915e-09</td>\n",
       "      <td>2.807494e-07</td>\n",
       "    </tr>\n",
       "    <tr>\n",
       "      <th>29</th>\n",
       "      <td>200.000000</td>\n",
       "      <td>4.906806e-10</td>\n",
       "      <td>4.237951e-09</td>\n",
       "      <td>2.792493e-07</td>\n",
       "    </tr>\n",
       "    <tr>\n",
       "      <th>30</th>\n",
       "      <td>200.000000</td>\n",
       "      <td>5.055768e-10</td>\n",
       "      <td>4.359857e-09</td>\n",
       "      <td>2.779023e-07</td>\n",
       "    </tr>\n",
       "    <tr>\n",
       "      <th>...</th>\n",
       "      <td>...</td>\n",
       "      <td>...</td>\n",
       "      <td>...</td>\n",
       "      <td>...</td>\n",
       "    </tr>\n",
       "    <tr>\n",
       "      <th>11971</th>\n",
       "      <td>18.079909</td>\n",
       "      <td>6.548623e-01</td>\n",
       "      <td>2.381069e-01</td>\n",
       "      <td>1.196755e+01</td>\n",
       "    </tr>\n",
       "    <tr>\n",
       "      <th>11972</th>\n",
       "      <td>18.081799</td>\n",
       "      <td>6.546761e-01</td>\n",
       "      <td>2.380827e-01</td>\n",
       "      <td>1.196630e+01</td>\n",
       "    </tr>\n",
       "    <tr>\n",
       "      <th>11973</th>\n",
       "      <td>18.083689</td>\n",
       "      <td>6.544899e-01</td>\n",
       "      <td>2.380585e-01</td>\n",
       "      <td>1.196506e+01</td>\n",
       "    </tr>\n",
       "    <tr>\n",
       "      <th>11974</th>\n",
       "      <td>18.085578</td>\n",
       "      <td>6.543038e-01</td>\n",
       "      <td>2.380343e-01</td>\n",
       "      <td>1.196382e+01</td>\n",
       "    </tr>\n",
       "    <tr>\n",
       "      <th>11975</th>\n",
       "      <td>18.087468</td>\n",
       "      <td>6.541178e-01</td>\n",
       "      <td>2.380101e-01</td>\n",
       "      <td>1.196258e+01</td>\n",
       "    </tr>\n",
       "    <tr>\n",
       "      <th>11976</th>\n",
       "      <td>18.089358</td>\n",
       "      <td>6.539319e-01</td>\n",
       "      <td>2.379860e-01</td>\n",
       "      <td>1.196134e+01</td>\n",
       "    </tr>\n",
       "    <tr>\n",
       "      <th>11977</th>\n",
       "      <td>18.091248</td>\n",
       "      <td>6.537460e-01</td>\n",
       "      <td>2.379618e-01</td>\n",
       "      <td>1.196009e+01</td>\n",
       "    </tr>\n",
       "    <tr>\n",
       "      <th>11978</th>\n",
       "      <td>18.093138</td>\n",
       "      <td>6.535601e-01</td>\n",
       "      <td>2.379377e-01</td>\n",
       "      <td>1.195885e+01</td>\n",
       "    </tr>\n",
       "    <tr>\n",
       "      <th>11979</th>\n",
       "      <td>18.095027</td>\n",
       "      <td>6.533744e-01</td>\n",
       "      <td>2.379136e-01</td>\n",
       "      <td>1.195761e+01</td>\n",
       "    </tr>\n",
       "    <tr>\n",
       "      <th>11980</th>\n",
       "      <td>18.096917</td>\n",
       "      <td>6.531887e-01</td>\n",
       "      <td>2.378895e-01</td>\n",
       "      <td>1.195638e+01</td>\n",
       "    </tr>\n",
       "    <tr>\n",
       "      <th>11981</th>\n",
       "      <td>18.098807</td>\n",
       "      <td>6.530031e-01</td>\n",
       "      <td>2.378654e-01</td>\n",
       "      <td>1.195514e+01</td>\n",
       "    </tr>\n",
       "    <tr>\n",
       "      <th>11982</th>\n",
       "      <td>18.100696</td>\n",
       "      <td>6.528176e-01</td>\n",
       "      <td>2.378413e-01</td>\n",
       "      <td>1.195390e+01</td>\n",
       "    </tr>\n",
       "    <tr>\n",
       "      <th>11983</th>\n",
       "      <td>18.102586</td>\n",
       "      <td>6.526321e-01</td>\n",
       "      <td>2.378172e-01</td>\n",
       "      <td>1.195266e+01</td>\n",
       "    </tr>\n",
       "    <tr>\n",
       "      <th>11984</th>\n",
       "      <td>18.104476</td>\n",
       "      <td>6.524467e-01</td>\n",
       "      <td>2.377931e-01</td>\n",
       "      <td>1.195143e+01</td>\n",
       "    </tr>\n",
       "    <tr>\n",
       "      <th>11985</th>\n",
       "      <td>18.106365</td>\n",
       "      <td>6.522614e-01</td>\n",
       "      <td>2.377691e-01</td>\n",
       "      <td>1.195019e+01</td>\n",
       "    </tr>\n",
       "    <tr>\n",
       "      <th>11986</th>\n",
       "      <td>18.108255</td>\n",
       "      <td>6.520761e-01</td>\n",
       "      <td>2.377451e-01</td>\n",
       "      <td>1.194896e+01</td>\n",
       "    </tr>\n",
       "    <tr>\n",
       "      <th>11987</th>\n",
       "      <td>18.110144</td>\n",
       "      <td>6.518909e-01</td>\n",
       "      <td>2.377210e-01</td>\n",
       "      <td>1.194772e+01</td>\n",
       "    </tr>\n",
       "    <tr>\n",
       "      <th>11988</th>\n",
       "      <td>18.112034</td>\n",
       "      <td>6.517058e-01</td>\n",
       "      <td>2.376970e-01</td>\n",
       "      <td>1.194649e+01</td>\n",
       "    </tr>\n",
       "    <tr>\n",
       "      <th>11989</th>\n",
       "      <td>18.113923</td>\n",
       "      <td>6.515207e-01</td>\n",
       "      <td>2.376730e-01</td>\n",
       "      <td>1.194526e+01</td>\n",
       "    </tr>\n",
       "    <tr>\n",
       "      <th>11990</th>\n",
       "      <td>18.115813</td>\n",
       "      <td>6.513357e-01</td>\n",
       "      <td>2.376490e-01</td>\n",
       "      <td>1.194403e+01</td>\n",
       "    </tr>\n",
       "    <tr>\n",
       "      <th>11991</th>\n",
       "      <td>18.117702</td>\n",
       "      <td>6.511508e-01</td>\n",
       "      <td>2.376251e-01</td>\n",
       "      <td>1.194279e+01</td>\n",
       "    </tr>\n",
       "    <tr>\n",
       "      <th>11992</th>\n",
       "      <td>18.119591</td>\n",
       "      <td>6.509660e-01</td>\n",
       "      <td>2.376011e-01</td>\n",
       "      <td>1.194156e+01</td>\n",
       "    </tr>\n",
       "    <tr>\n",
       "      <th>11993</th>\n",
       "      <td>18.121481</td>\n",
       "      <td>6.507812e-01</td>\n",
       "      <td>2.375772e-01</td>\n",
       "      <td>1.194033e+01</td>\n",
       "    </tr>\n",
       "    <tr>\n",
       "      <th>11994</th>\n",
       "      <td>18.123370</td>\n",
       "      <td>6.505965e-01</td>\n",
       "      <td>2.375533e-01</td>\n",
       "      <td>1.193910e+01</td>\n",
       "    </tr>\n",
       "    <tr>\n",
       "      <th>11995</th>\n",
       "      <td>18.125259</td>\n",
       "      <td>6.504118e-01</td>\n",
       "      <td>2.375293e-01</td>\n",
       "      <td>1.193787e+01</td>\n",
       "    </tr>\n",
       "    <tr>\n",
       "      <th>11996</th>\n",
       "      <td>18.127149</td>\n",
       "      <td>6.502273e-01</td>\n",
       "      <td>2.375054e-01</td>\n",
       "      <td>1.193665e+01</td>\n",
       "    </tr>\n",
       "    <tr>\n",
       "      <th>11997</th>\n",
       "      <td>18.129038</td>\n",
       "      <td>6.500428e-01</td>\n",
       "      <td>2.374815e-01</td>\n",
       "      <td>1.193542e+01</td>\n",
       "    </tr>\n",
       "    <tr>\n",
       "      <th>11998</th>\n",
       "      <td>18.130927</td>\n",
       "      <td>6.498583e-01</td>\n",
       "      <td>2.374577e-01</td>\n",
       "      <td>1.193419e+01</td>\n",
       "    </tr>\n",
       "    <tr>\n",
       "      <th>11999</th>\n",
       "      <td>18.132816</td>\n",
       "      <td>6.496740e-01</td>\n",
       "      <td>2.374338e-01</td>\n",
       "      <td>1.193297e+01</td>\n",
       "    </tr>\n",
       "    <tr>\n",
       "      <th>12000</th>\n",
       "      <td>18.134706</td>\n",
       "      <td>6.494897e-01</td>\n",
       "      <td>2.374100e-01</td>\n",
       "      <td>1.193174e+01</td>\n",
       "    </tr>\n",
       "  </tbody>\n",
       "</table>\n",
       "<p>12000 rows × 4 columns</p>\n",
       "</div>"
      ],
      "text/plain": [
       "                R             L             E             V\n",
       "1      200.000000  0.000000e+00  0.000000e+00  4.000000e-07\n",
       "2      200.000000  2.160000e-11  1.944000e-10  3.920000e-07\n",
       "3      200.000000  4.275993e-11  3.842783e-10  3.843544e-07\n",
       "4      200.000000  6.349909e-11  5.698218e-10  3.770516e-07\n",
       "5      200.000000  8.383616e-11  7.512113e-10  3.700804e-07\n",
       "6      200.000000  1.037892e-10  9.286215e-10  3.634300e-07\n",
       "7      200.000000  1.233756e-10  1.102221e-09  3.570900e-07\n",
       "8      200.000000  1.426124e-10  1.272174e-09  3.510504e-07\n",
       "9      200.000000  1.615158e-10  1.438638e-09  3.453016e-07\n",
       "10     200.000000  1.801018e-10  1.601765e-09  3.398342e-07\n",
       "11     200.000000  1.983855e-10  1.761704e-09  3.346393e-07\n",
       "12     200.000000  2.163819e-10  1.918596e-09  3.297082e-07\n",
       "13     200.000000  2.341053e-10  2.072581e-09  3.250326e-07\n",
       "14     200.000000  2.515696e-10  2.223791e-09  3.206046e-07\n",
       "15     200.000000  2.687883e-10  2.372357e-09  3.164163e-07\n",
       "16     200.000000  2.857744e-10  2.518404e-09  3.124603e-07\n",
       "17     200.000000  3.025404e-10  2.662051e-09  3.087295e-07\n",
       "18     200.000000  3.190988e-10  2.803418e-09  3.052169e-07\n",
       "19     200.000000  3.354613e-10  2.942617e-09  3.019160e-07\n",
       "20     200.000000  3.516394e-10  3.079758e-09  2.988203e-07\n",
       "21     200.000000  3.676444e-10  3.214948e-09  2.959237e-07\n",
       "22     200.000000  3.834869e-10  3.348290e-09  2.932202e-07\n",
       "23     200.000000  3.991775e-10  3.479884e-09  2.907040e-07\n",
       "24     200.000000  4.147264e-10  3.609826e-09  2.883698e-07\n",
       "25     200.000000  4.301434e-10  3.738211e-09  2.862123e-07\n",
       "26     200.000000  4.454382e-10  3.865129e-09  2.842262e-07\n",
       "27     200.000000  4.606200e-10  3.990668e-09  2.824068e-07\n",
       "28     200.000000  4.756979e-10  4.114915e-09  2.807494e-07\n",
       "29     200.000000  4.906806e-10  4.237951e-09  2.792493e-07\n",
       "30     200.000000  5.055768e-10  4.359857e-09  2.779023e-07\n",
       "...           ...           ...           ...           ...\n",
       "11971   18.079909  6.548623e-01  2.381069e-01  1.196755e+01\n",
       "11972   18.081799  6.546761e-01  2.380827e-01  1.196630e+01\n",
       "11973   18.083689  6.544899e-01  2.380585e-01  1.196506e+01\n",
       "11974   18.085578  6.543038e-01  2.380343e-01  1.196382e+01\n",
       "11975   18.087468  6.541178e-01  2.380101e-01  1.196258e+01\n",
       "11976   18.089358  6.539319e-01  2.379860e-01  1.196134e+01\n",
       "11977   18.091248  6.537460e-01  2.379618e-01  1.196009e+01\n",
       "11978   18.093138  6.535601e-01  2.379377e-01  1.195885e+01\n",
       "11979   18.095027  6.533744e-01  2.379136e-01  1.195761e+01\n",
       "11980   18.096917  6.531887e-01  2.378895e-01  1.195638e+01\n",
       "11981   18.098807  6.530031e-01  2.378654e-01  1.195514e+01\n",
       "11982   18.100696  6.528176e-01  2.378413e-01  1.195390e+01\n",
       "11983   18.102586  6.526321e-01  2.378172e-01  1.195266e+01\n",
       "11984   18.104476  6.524467e-01  2.377931e-01  1.195143e+01\n",
       "11985   18.106365  6.522614e-01  2.377691e-01  1.195019e+01\n",
       "11986   18.108255  6.520761e-01  2.377451e-01  1.194896e+01\n",
       "11987   18.110144  6.518909e-01  2.377210e-01  1.194772e+01\n",
       "11988   18.112034  6.517058e-01  2.376970e-01  1.194649e+01\n",
       "11989   18.113923  6.515207e-01  2.376730e-01  1.194526e+01\n",
       "11990   18.115813  6.513357e-01  2.376490e-01  1.194403e+01\n",
       "11991   18.117702  6.511508e-01  2.376251e-01  1.194279e+01\n",
       "11992   18.119591  6.509660e-01  2.376011e-01  1.194156e+01\n",
       "11993   18.121481  6.507812e-01  2.375772e-01  1.194033e+01\n",
       "11994   18.123370  6.505965e-01  2.375533e-01  1.193910e+01\n",
       "11995   18.125259  6.504118e-01  2.375293e-01  1.193787e+01\n",
       "11996   18.127149  6.502273e-01  2.375054e-01  1.193665e+01\n",
       "11997   18.129038  6.500428e-01  2.374815e-01  1.193542e+01\n",
       "11998   18.130927  6.498583e-01  2.374577e-01  1.193419e+01\n",
       "11999   18.132816  6.496740e-01  2.374338e-01  1.193297e+01\n",
       "12000   18.134706  6.494897e-01  2.374100e-01  1.193174e+01\n",
       "\n",
       "[12000 rows x 4 columns]"
      ]
     },
     "execution_count": 5,
     "metadata": {},
     "output_type": "execute_result"
    }
   ],
   "source": [
    "results=run_simulation()"
   ]
  },
  {
   "cell_type": "code",
   "execution_count": 6,
   "metadata": {},
   "outputs": [
    {
     "data": {
      "text/plain": [
       "<matplotlib.axes._subplots.AxesSubplot at 0x1d090e8e390>"
      ]
     },
     "execution_count": 6,
     "metadata": {},
     "output_type": "execute_result"
    },
    {
     "data": {
      "image/png": "[encoded data removed]",
      "text/plain": [
       "<Figure size 432x288 with 1 Axes>"
      ]
     },
     "metadata": {},
     "output_type": "display_data"
    }
   ],
   "source": [
    "results.plot()"
   ]
  },
  {
   "cell_type": "code",
   "execution_count": 7,
   "metadata": {},
   "outputs": [
    {
     "data": {
      "text/plain": [
       "[<matplotlib.lines.Line2D at 0x1d09706b0f0>]"
      ]
     },
     "execution_count": 7,
     "metadata": {},
     "output_type": "execute_result"
    },
    {
     "data": {
      "image/png": "[encoded data removed]",
      "text/plain": [
       "<Figure size 432x288 with 1 Axes>"
      ]
     },
     "metadata": {},
     "output_type": "display_data"
    }
   ],
   "source": [
    "import numpy as np\n",
    "import matplotlib.pyplot as plt\n",
    "plot(results.index, results.R)\n"
   ]
  },
  {
   "cell_type": "code",
   "execution_count": 8,
   "metadata": {},
   "outputs": [
    {
     "data": {
      "image/png": "[encoded data removed]",
      "text/plain": [
       "<Figure size 432x288 with 1 Axes>"
      ]
     },
     "metadata": {},
     "output_type": "display_data"
    }
   ],
   "source": [
    "plt.semilogy(results.index, results.L)\n",
    "decorate( ylim=[.1,100])"
   ]
  },
  {
   "cell_type": "code",
   "execution_count": 9,
   "metadata": {},
   "outputs": [
    {
     "data": {
      "image/png": "[encoded data removed]",
      "text/plain": [
       "<Figure size 432x288 with 1 Axes>"
      ]
     },
     "metadata": {},
     "output_type": "display_data"
    }
   ],
   "source": [
    "plt.semilogy(results.index, results.E)\n",
    "decorate( ylim=[.1,100])"
   ]
  },
  {
   "cell_type": "code",
   "execution_count": 10,
   "metadata": {},
   "outputs": [
    {
     "data": {
      "image/png": "[encoded data removed]",
      "text/plain": [
       "<Figure size 432x288 with 1 Axes>"
      ]
     },
     "metadata": {},
     "output_type": "display_data"
    }
   ],
   "source": [
    "plt.semilogy(results.index, results.V)\n",
    "decorate( ylim=[.1,10000])"
   ]
  },
  {
   "cell_type": "code",
   "execution_count": 11,
   "metadata": {},
   "outputs": [],
   "source": [
    "def slope_func(state,t, system):\n",
    "    unpack(system)\n",
    "    R,L,E,V=state\n",
    "   \n",
    "    drdt=(Γ*τ-μ*R-β*R*V)\n",
    "    dldt=(ρ*β*R*V-μ*L-α*L)\n",
    "    dedt=((1-ρ)*β*R*V+α*L-δ*E)\n",
    "    dvdt=(π*E-σ*V)\n",
    "    return drdt,dldt,dedt,dvdt"
   ]
  },
  {
   "cell_type": "code",
   "execution_count": 12,
   "metadata": {},
   "outputs": [
    {
     "data": {
      "text/html": [
       "<div>\n",
       "<style scoped>\n",
       "    .dataframe tbody tr th:only-of-type {\n",
       "        vertical-align: middle;\n",
       "    }\n",
       "\n",
       "    .dataframe tbody tr th {\n",
       "        vertical-align: top;\n",
       "    }\n",
       "\n",
       "    .dataframe thead th {\n",
       "        text-align: right;\n",
       "    }\n",
       "</style>\n",
       "<table border=\"1\" class=\"dataframe\">\n",
       "  <thead>\n",
       "    <tr style=\"text-align: right;\">\n",
       "      <th></th>\n",
       "      <th>values</th>\n",
       "    </tr>\n",
       "  </thead>\n",
       "  <tbody>\n",
       "    <tr>\n",
       "      <th>sol</th>\n",
       "      <td>None</td>\n",
       "    </tr>\n",
       "    <tr>\n",
       "      <th>t_events</th>\n",
       "      <td>[]</td>\n",
       "    </tr>\n",
       "    <tr>\n",
       "      <th>nfev</th>\n",
       "      <td>72002</td>\n",
       "    </tr>\n",
       "    <tr>\n",
       "      <th>njev</th>\n",
       "      <td>0</td>\n",
       "    </tr>\n",
       "    <tr>\n",
       "      <th>nlu</th>\n",
       "      <td>0</td>\n",
       "    </tr>\n",
       "    <tr>\n",
       "      <th>status</th>\n",
       "      <td>0</td>\n",
       "    </tr>\n",
       "    <tr>\n",
       "      <th>message</th>\n",
       "      <td>The solver successfully reached the end of the...</td>\n",
       "    </tr>\n",
       "    <tr>\n",
       "      <th>success</th>\n",
       "      <td>True</td>\n",
       "    </tr>\n",
       "  </tbody>\n",
       "</table>\n",
       "</div>"
      ],
      "text/plain": [
       "sol                                                      None\n",
       "t_events                                                   []\n",
       "nfev                                                    72002\n",
       "njev                                                        0\n",
       "nlu                                                         0\n",
       "status                                                      0\n",
       "message     The solver successfully reached the end of the...\n",
       "success                                                  True\n",
       "dtype: object"
      ]
     },
     "execution_count": 12,
     "metadata": {},
     "output_type": "execute_result"
    }
   ],
   "source": [
    "system=System(init=init, t0=1,t_end=120, Γ=1.36, μ=.00136, τ=.2, β=.00027, ρ=.1, α=.036, σ=2, δ=.33, π=100)\n",
    "\n",
    "results,details=run_ode_solver(system, slope_func, max_step=.01)\n",
    "details"
   ]
  },
  {
   "cell_type": "code",
   "execution_count": 13,
   "metadata": {},
   "outputs": [
    {
     "data": {
      "text/plain": [
       "<matplotlib.axes._subplots.AxesSubplot at 0x1d097077940>"
      ]
     },
     "execution_count": 13,
     "metadata": {},
     "output_type": "execute_result"
    },
    {
     "data": {
      "image/png": "[encoded data removed]",
      "text/plain": [
       "<Figure size 432x288 with 1 Axes>"
      ]
     },
     "metadata": {},
     "output_type": "display_data"
    }
   ],
   "source": [
    "results.plot()"
   ]
  },
  {
   "cell_type": "code",
   "execution_count": 14,
   "metadata": {},
   "outputs": [
    {
     "data": {
      "image/png": "[encoded data removed]",
      "text/plain": [
       "<Figure size 432x288 with 1 Axes>"
      ]
     },
     "metadata": {},
     "output_type": "display_data"
    }
   ],
   "source": [
    "import numpy as np\n",
    "import matplotlib.pyplot as plt\n",
    "plt.plot(results.index, results.R)\n",
    "decorate(xlabel='days',\n",
    "         ylabel='R')\n"
   ]
  },
  {
   "cell_type": "code",
   "execution_count": 15,
   "metadata": {},
   "outputs": [
    {
     "data": {
      "image/png": "[encoded data removed]",
      "text/plain": [
       "<Figure size 432x288 with 1 Axes>"
      ]
     },
     "metadata": {},
     "output_type": "display_data"
    }
   ],
   "source": [
    "plt.semilogy(results.index, results.L)\n",
    "decorate( ylim=[.1,100],xlabel='days',\n",
    "         ylabel='L')\n"
   ]
  },
  {
   "cell_type": "code",
   "execution_count": 16,
   "metadata": {},
   "outputs": [
    {
     "data": {
      "image/png": "[encoded data removed]",
      "text/plain": [
       "<Figure size 432x288 with 1 Axes>"
      ]
     },
     "metadata": {},
     "output_type": "display_data"
    }
   ],
   "source": [
    "plt.semilogy(results.index, results.E)\n",
    "decorate( ylim=[.1,100],xlabel='days',\n",
    "         ylabel='E')"
   ]
  },
  {
   "cell_type": "code",
   "execution_count": 17,
   "metadata": {},
   "outputs": [
    {
     "data": {
      "image/png": "[encoded data removed]",
      "text/plain": [
       "<Figure size 432x288 with 1 Axes>"
      ]
     },
     "metadata": {},
     "output_type": "display_data"
    }
   ],
   "source": [
    "plt.semilogy(results.index, results.V)\n",
    "decorate( ylim=[.1,10000],xlabel='days',\n",
    "         ylabel='V')\n"
   ]
  },
  {
   "cell_type": "code",
   "execution_count": null,
   "metadata": {},
   "outputs": [],
   "source": []
  }
 ],
 "metadata": {
  "kernelspec": {
   "display_name": "Python 3",
   "language": "python",
   "name": "python3"
  },
  "language_info": {
   "codemirror_mode": {
    "name": "ipython",
    "version": 3
   },
   "file_extension": ".py",
   "mimetype": "text/x-python",
   "name": "python",
   "nbconvert_exporter": "python",
   "pygments_lexer": "ipython3",
   "version": "3.6.6"
  }
 },
 "nbformat": 4,
 "nbformat_minor": 2
}
